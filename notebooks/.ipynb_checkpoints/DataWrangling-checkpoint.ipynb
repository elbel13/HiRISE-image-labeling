{
 "cells": [
  {
   "cell_type": "code",
   "execution_count": 1,
   "id": "fe3d9a4d-3c24-4c6e-9106-186293dde8d1",
   "metadata": {},
   "outputs": [],
   "source": [
    "import pandas\n",
    "import numpy"
   ]
  },
  {
   "cell_type": "code",
   "execution_count": 4,
   "id": "7d1224ba-b075-420d-9943-022845078822",
   "metadata": {},
   "outputs": [
    {
     "name": "stdout",
     "output_type": "stream",
     "text": [
      "hirise-map-proj-v3_2\tlandmarks_map-proj-v3_classmap.csv  map-proj-v3\n",
      "labels-map-proj-v3.txt\t__MACOSX\t\t\t    README.txt\n"
     ]
    }
   ],
   "source": [
    "!ls ../data"
   ]
  },
  {
   "cell_type": "code",
   "execution_count": 7,
   "id": "2aee908c-ca43-427e-b550-33061abbe94f",
   "metadata": {},
   "outputs": [
    {
     "name": "stdout",
     "output_type": "stream",
     "text": [
      "labels-map-proj_v3_2_train_val_test.txt  landmarks_map-proj-v3_2_classmap.csv\n",
      "labels-map-proj_v3_2.txt\t\t map-proj-v3_2\n"
     ]
    }
   ],
   "source": [
    "!ls ../data/hirise-map-proj-v3_2"
   ]
  },
  {
   "cell_type": "code",
   "execution_count": 6,
   "id": "46712d1e-2060-4b9b-85f0-ea49a29c5dd0",
   "metadata": {},
   "outputs": [
    {
     "name": "stdout",
     "output_type": "stream",
     "text": [
      "Mars orbital image (HiRISE) labeled data set version 3\n",
      "--------------------------------------------\n",
      "Authors: Kiri L. Wagstaff, Steven Lu, Gary Doran, Lukas Mandrake\n",
      "Contact: you.lu@jpl.nasa.gov\n",
      "\n",
      "This data set contains a total of 73,031 landmarks. 10,433 landmarks were detected and extracted from 180 HiRISE browse images, and 62,598 landmarks were augmented from 10,433 original landmarks. For each original landmark, we cropped a square bounding box that includes the full extent of the landmark plus a 30-pixel margin to left, right, top and bottom. Each cropped landmark was resized to 227x227 pixels, and then was augmented to generate 6 additional landmarks using the following methods:\n",
      "\n",
      "1. 90 degrees clockwise rotation\n",
      "2. 180 degrees clockwise rotation\n",
      "3. 270 degrees clockwise rotation\n",
      "4. Horizontal flip\n",
      "5. Vertical flip\n",
      "6. Random brightness adjustment\n",
      "\n",
      "\n",
      "Contents:\n",
      "- map-proj-v3/: Directory containing individual cropped landmark images\n",
      "- labels-map-proj-v3.txt: Class labels (ids) for each landmark image\n",
      "- landmarks_map-proj-v3_classmap.csv: Dictionary that maps class ids to semantic names\n",
      "\n",
      "\n",
      "Attribution:\n",
      "If you use this data set in your own work, please cite this DOI: 10.5281/zenodo.2538136"
     ]
    }
   ],
   "source": [
    "!cat ../data/README.txt"
   ]
  }
 ],
 "metadata": {
  "kernelspec": {
   "display_name": "Python 3 (ipykernel)",
   "language": "python",
   "name": "python3"
  },
  "language_info": {
   "codemirror_mode": {
    "name": "ipython",
    "version": 3
   },
   "file_extension": ".py",
   "mimetype": "text/x-python",
   "name": "python",
   "nbconvert_exporter": "python",
   "pygments_lexer": "ipython3",
   "version": "3.11.5"
  }
 },
 "nbformat": 4,
 "nbformat_minor": 5
}
