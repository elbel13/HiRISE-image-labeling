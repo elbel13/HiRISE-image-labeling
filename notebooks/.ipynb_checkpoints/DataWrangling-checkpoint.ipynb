{
 "cells": [
  {
   "cell_type": "markdown",
   "id": "60d4fe20-e543-4da9-ade6-70712aa906d5",
   "metadata": {},
   "source": [
    "## Exploratory Analysis\n",
    "\n",
    "The first part of wrangling our data is an exploratory analysis. In the following section, we'll explore our data to try to better understand it. We'll need to explore the raw data to know how it's formatted and what the different fields available. To do this we will load data into the notebook, but even before we do that we will want to examine our folder structure and take inventory of the different files available to us. After that we can start exploring their contents and loading the data for exploratory analysis with Pandas and Python."
   ]
  },
  {
   "cell_type": "code",
   "execution_count": 1,
   "id": "fe3d9a4d-3c24-4c6e-9106-186293dde8d1",
   "metadata": {},
   "outputs": [
    {
     "name": "stderr",
     "output_type": "stream",
     "text": [
      "2024-03-24 18:19:00.349615: I tensorflow/core/platform/cpu_feature_guard.cc:182] This TensorFlow binary is optimized to use available CPU instructions in performance-critical operations.\n",
      "To enable the following instructions: SSE4.1 SSE4.2 AVX, in other operations, rebuild TensorFlow with the appropriate compiler flags.\n"
     ]
    }
   ],
   "source": [
    "import pandas as pd\n",
    "import numpy as np\n",
    "import matplotlib.pyplot as plt\n",
    "import tensorflow as tf\n",
    "from skimage.io import imread\n",
    "from joblib import Parallel, delayed\n",
    "from file_helpers import print_dir, print_file, pickle_as_file, copy_to_directory\n",
    "import os"
   ]
  },
  {
   "cell_type": "markdown",
   "id": "a7fcc472-e580-437e-b02f-d21d44e9a4e9",
   "metadata": {},
   "source": [
    "First, let's explore the folders we stored the data in a little bit. There are some files in the folders that will help us better understand and navigate the data. Let's take a look and see what we have."
   ]
  },
  {
   "cell_type": "code",
   "execution_count": 2,
   "id": "7d1224ba-b075-420d-9943-022845078822",
   "metadata": {},
   "outputs": [
    {
     "name": "stdout",
     "output_type": "stream",
     "text": [
      "        Name     Full Path\n",
      "hirise-map-proj-v3_2  ../data/hirise-map-proj-v3_2\n",
      "processed_data  ../data/processed_data\n",
      "    __MACOSX  ../data/__MACOSX\n",
      "Showing 3 of 3 items\n"
     ]
    }
   ],
   "source": [
    "print_dir('../data')"
   ]
  },
  {
   "cell_type": "markdown",
   "id": "da0d22d7-215a-4ed7-9cf2-97ed7ad7774a",
   "metadata": {},
   "source": [
    "We can likely ignore the `__MACOSX`, as that looks like a folder used internally by MACOSX. One of the things that stands out to me is is the `hirise-map-proj-v3_2` folder. This seems to match up with our zip file from the original download. If this is the case, I suspect we'll have similar files inside this folder as what we see above. Let's take a look."
   ]
  },
  {
   "cell_type": "code",
   "execution_count": 3,
   "id": "0ec9b91d-3250-4e34-8848-5ec602819b22",
   "metadata": {},
   "outputs": [
    {
     "name": "stdout",
     "output_type": "stream",
     "text": [
      "        Name     Full Path\n",
      "map-proj-v3_2  ../data/hirise-map-proj-v3_2/map-proj-v3_2\n",
      "labels-map-proj_v3_2.txt  ../data/hirise-map-proj-v3_2/labels-map-proj_v3_2.txt\n",
      "labels-map-proj_v3_2_train_val_test.txt  ../data/hirise-map-proj-v3_2/labels-map-proj_v3_2_train_val_test.txt\n",
      "landmarks_map-proj-v3_2_classmap.csv  ../data/hirise-map-proj-v3_2/landmarks_map-proj-v3_2_classmap.csv\n",
      "Showing 4 of 4 items\n"
     ]
    }
   ],
   "source": [
    "print_dir('../data/hirise-map-proj-v3_2')"
   ]
  },
  {
   "cell_type": "markdown",
   "id": "39e477c3-3f8d-4abd-8237-8bd066e893d3",
   "metadata": {},
   "source": [
    "This looks like the root directory that matches the download previewer on [Zenodo](https://zenodo.org/records/4002935). If we read the description there, we can find information on all these files.\n",
    "\n",
    ">Contents:\n",
    ">- map-proj-v3_2/: Directory containing individual cropped landmark images\n",
    ">- labels-map-proj-v3_2.txt: Class labels (ids) for each landmark image. File includes two columns separated by a space: filename, class_id\n",
    ">\n",
    ">- labels-map-proj-v3_2_train_val_test.txt: Includes train/test/val labels and upsampling used for trained model. File includes three columns separated by a space: filename, class_id, set\n",
    ">- landmarks_map-proj-v3_2_classmap.csv: Dictionary that maps class ids to semantic names\n",
    "\n",
    "Let's dive into the `map-proj-v3_1` folder to verify that the images are there, as expected."
   ]
  },
  {
   "cell_type": "code",
   "execution_count": 4,
   "id": "ee8ba499-5cdf-4a91-833f-552040458fd1",
   "metadata": {},
   "outputs": [
    {
     "name": "stdout",
     "output_type": "stream",
     "text": [
      "        Name     Full Path\n",
      "ESP_012810_0925_RED-0115-brt.jpg  ../data/hirise-map-proj-v3_2/map-proj-v3_2/ESP_012810_0925_RED-0115-brt.jpg\n",
      "ESP_024646_2570_RED-0016-r270.jpg  ../data/hirise-map-proj-v3_2/map-proj-v3_2/ESP_024646_2570_RED-0016-r270.jpg\n",
      "PSP_010087_1555_RED-0181-r90.jpg  ../data/hirise-map-proj-v3_2/map-proj-v3_2/PSP_010087_1555_RED-0181-r90.jpg\n",
      "ESP_025151_1570_RED-0151-r90.jpg  ../data/hirise-map-proj-v3_2/map-proj-v3_2/ESP_025151_1570_RED-0151-r90.jpg\n",
      "ESP_012494_2050_RED-0044-r90.jpg  ../data/hirise-map-proj-v3_2/map-proj-v3_2/ESP_012494_2050_RED-0044-r90.jpg\n",
      "ESP_018321_2565_RED-0069-r270.jpg  ../data/hirise-map-proj-v3_2/map-proj-v3_2/ESP_018321_2565_RED-0069-r270.jpg\n",
      "ESP_016631_2535_RED-0004-r180.jpg  ../data/hirise-map-proj-v3_2/map-proj-v3_2/ESP_016631_2535_RED-0004-r180.jpg\n",
      "ESP_012637_0935_RED-0236.jpg  ../data/hirise-map-proj-v3_2/map-proj-v3_2/ESP_012637_0935_RED-0236.jpg\n",
      "PSP_010087_1555_RED-0306.jpg  ../data/hirise-map-proj-v3_2/map-proj-v3_2/PSP_010087_1555_RED-0306.jpg\n",
      "ESP_011881_1585_RED-0041-brt.jpg  ../data/hirise-map-proj-v3_2/map-proj-v3_2/ESP_011881_1585_RED-0041-brt.jpg\n",
      "ESP_015897_2655_RED-0060-fv.jpg  ../data/hirise-map-proj-v3_2/map-proj-v3_2/ESP_015897_2655_RED-0060-fv.jpg\n",
      "ESP_017770_1990_RED-0355-r90.jpg  ../data/hirise-map-proj-v3_2/map-proj-v3_2/ESP_017770_1990_RED-0355-r90.jpg\n",
      "ESP_020606_1445_RED-0656-brt.jpg  ../data/hirise-map-proj-v3_2/map-proj-v3_2/ESP_020606_1445_RED-0656-brt.jpg\n",
      "ESP_014079_1715_RED-0540-fh.jpg  ../data/hirise-map-proj-v3_2/map-proj-v3_2/ESP_014079_1715_RED-0540-fh.jpg\n",
      "ESP_027802_1685_RED-0216-fh.jpg  ../data/hirise-map-proj-v3_2/map-proj-v3_2/ESP_027802_1685_RED-0216-fh.jpg\n",
      "Showing 15 of 64947 items\n"
     ]
    }
   ],
   "source": [
    "print_dir('../data/hirise-map-proj-v3_2/map-proj-v3_2')"
   ]
  },
  {
   "cell_type": "markdown",
   "id": "c3ca0efc-0fca-4349-9614-503a457ef817",
   "metadata": {},
   "source": [
    "It does look like image data, and as expected we have 64,947 images. Let's take a look at one just to get a feel for what these images look like.\n",
    "\n",
    "![Martian Image](../data/hirise-map-proj-v3_2/map-proj-v3_2/ESP_011283_2265_RED-0013-brt.jpg)"
   ]
  },
  {
   "cell_type": "code",
   "execution_count": 5,
   "id": "243c0934-639e-451e-a79b-8e1d366bea7b",
   "metadata": {},
   "outputs": [
    {
     "name": "stdout",
     "output_type": "stream",
     "text": [
      "ESP_013049_0950_RED-0067.jpg 7\n",
      "\n",
      "ESP_013049_0950_RED-0067-fv.jpg 7\n",
      "\n",
      "ESP_013049_0950_RED-0067-brt.jpg 7\n",
      "\n",
      "ESP_013049_0950_RED-0067-r90.jpg 7\n",
      "\n",
      "ESP_013049_0950_RED-0067-r180.jpg 7\n",
      "\n",
      "ESP_013049_0950_RED-0067-r270.jpg 7\n",
      "\n",
      "ESP_013049_0950_RED-0067-fh.jpg 7\n",
      "\n",
      "ESP_019697_2020_RED-0024.jpg 1\n",
      "\n",
      "ESP_019697_2020_RED-0024-fv.jpg 1\n",
      "\n",
      "ESP_019697_2020_RED-0024-brt.jpg 1\n",
      "\n"
     ]
    }
   ],
   "source": [
    "print_file('../data/hirise-map-proj-v3_2/labels-map-proj_v3_2.txt', line_limit = 10)"
   ]
  },
  {
   "cell_type": "code",
   "execution_count": 6,
   "id": "21c2f377-ed7f-4203-812b-aa6e8683a80d",
   "metadata": {},
   "outputs": [
    {
     "name": "stdout",
     "output_type": "stream",
     "text": [
      "ESP_013049_0950_RED-0067.jpg 7 train\n",
      "\n",
      "ESP_013049_0950_RED-0067-fv.jpg 7 train\n",
      "\n",
      "ESP_013049_0950_RED-0067-brt.jpg 7 train\n",
      "\n",
      "ESP_013049_0950_RED-0067-r90.jpg 7 train\n",
      "\n",
      "ESP_013049_0950_RED-0067-r180.jpg 7 train\n",
      "\n",
      "ESP_013049_0950_RED-0067-r270.jpg 7 train\n",
      "\n",
      "ESP_013049_0950_RED-0067-fh.jpg 7 train\n",
      "\n",
      "ESP_019697_2020_RED-0024.jpg 1 train\n",
      "\n",
      "ESP_019697_2020_RED-0024-fv.jpg 1 train\n",
      "\n",
      "ESP_019697_2020_RED-0024-brt.jpg 1 train\n",
      "\n"
     ]
    }
   ],
   "source": [
    "print_file('../data/hirise-map-proj-v3_2/labels-map-proj_v3_2_train_val_test.txt', line_limit = 10)"
   ]
  },
  {
   "cell_type": "code",
   "execution_count": 7,
   "id": "eadd8564-e36b-42c8-a9bb-734f32d1f8f8",
   "metadata": {},
   "outputs": [
    {
     "name": "stdout",
     "output_type": "stream",
     "text": [
      "0,other\n",
      "\n",
      "1,crater\n",
      "\n",
      "2,dark dune\n",
      "\n",
      "3,slope streak\n",
      "\n",
      "4,bright dune\n",
      "\n",
      "5,impact ejecta\n",
      "\n",
      "6,swiss cheese\n",
      "\n",
      "7,spider\n",
      "\n"
     ]
    }
   ],
   "source": [
    "print_file('../data/hirise-map-proj-v3_2/landmarks_map-proj-v3_2_classmap.csv')"
   ]
  },
  {
   "cell_type": "code",
   "execution_count": 8,
   "id": "f79345bc-e7cf-4f67-8980-89b0d64e34a3",
   "metadata": {},
   "outputs": [
    {
     "data": {
      "text/html": [
       "<div>\n",
       "<style scoped>\n",
       "    .dataframe tbody tr th:only-of-type {\n",
       "        vertical-align: middle;\n",
       "    }\n",
       "\n",
       "    .dataframe tbody tr th {\n",
       "        vertical-align: top;\n",
       "    }\n",
       "\n",
       "    .dataframe thead th {\n",
       "        text-align: right;\n",
       "    }\n",
       "</style>\n",
       "<table border=\"1\" class=\"dataframe\">\n",
       "  <thead>\n",
       "    <tr style=\"text-align: right;\">\n",
       "      <th></th>\n",
       "      <th>image</th>\n",
       "      <th>label</th>\n",
       "    </tr>\n",
       "  </thead>\n",
       "  <tbody>\n",
       "    <tr>\n",
       "      <th>0</th>\n",
       "      <td>ESP_013049_0950_RED-0067.jpg</td>\n",
       "      <td>7</td>\n",
       "    </tr>\n",
       "    <tr>\n",
       "      <th>1</th>\n",
       "      <td>ESP_013049_0950_RED-0067-fv.jpg</td>\n",
       "      <td>7</td>\n",
       "    </tr>\n",
       "    <tr>\n",
       "      <th>2</th>\n",
       "      <td>ESP_013049_0950_RED-0067-brt.jpg</td>\n",
       "      <td>7</td>\n",
       "    </tr>\n",
       "    <tr>\n",
       "      <th>3</th>\n",
       "      <td>ESP_013049_0950_RED-0067-r90.jpg</td>\n",
       "      <td>7</td>\n",
       "    </tr>\n",
       "    <tr>\n",
       "      <th>4</th>\n",
       "      <td>ESP_013049_0950_RED-0067-r180.jpg</td>\n",
       "      <td>7</td>\n",
       "    </tr>\n",
       "  </tbody>\n",
       "</table>\n",
       "</div>"
      ],
      "text/plain": [
       "                               image  label\n",
       "0       ESP_013049_0950_RED-0067.jpg      7\n",
       "1    ESP_013049_0950_RED-0067-fv.jpg      7\n",
       "2   ESP_013049_0950_RED-0067-brt.jpg      7\n",
       "3   ESP_013049_0950_RED-0067-r90.jpg      7\n",
       "4  ESP_013049_0950_RED-0067-r180.jpg      7"
      ]
     },
     "execution_count": 8,
     "metadata": {},
     "output_type": "execute_result"
    }
   ],
   "source": [
    "#Use space as the delimiter, and it looks like the first column is the image name and the second the label\n",
    "df_labels = pd.read_csv('../data/hirise-map-proj-v3_2/labels-map-proj_v3_2.txt', sep = ' ', header = None, names = ['image', 'label'])\n",
    "df_labels.head()"
   ]
  },
  {
   "cell_type": "code",
   "execution_count": 9,
   "id": "665a40cd-a2d3-41f8-b1df-91f5aeb0f9c2",
   "metadata": {},
   "outputs": [
    {
     "data": {
      "text/plain": [
       "(64947, 2)"
      ]
     },
     "execution_count": 9,
     "metadata": {},
     "output_type": "execute_result"
    }
   ],
   "source": [
    "df_labels.shape"
   ]
  },
  {
   "cell_type": "code",
   "execution_count": 10,
   "id": "54729267-5e7d-4d22-84d1-af4aef83d47c",
   "metadata": {},
   "outputs": [
    {
     "data": {
      "text/html": [
       "<div>\n",
       "<style scoped>\n",
       "    .dataframe tbody tr th:only-of-type {\n",
       "        vertical-align: middle;\n",
       "    }\n",
       "\n",
       "    .dataframe tbody tr th {\n",
       "        vertical-align: top;\n",
       "    }\n",
       "\n",
       "    .dataframe thead th {\n",
       "        text-align: right;\n",
       "    }\n",
       "</style>\n",
       "<table border=\"1\" class=\"dataframe\">\n",
       "  <thead>\n",
       "    <tr style=\"text-align: right;\">\n",
       "      <th></th>\n",
       "      <th>image</th>\n",
       "      <th>label</th>\n",
       "    </tr>\n",
       "  </thead>\n",
       "  <tbody>\n",
       "    <tr>\n",
       "      <th>33746</th>\n",
       "      <td>ESP_011283_2265_RED-0013-brt.jpg</td>\n",
       "      <td>0</td>\n",
       "    </tr>\n",
       "  </tbody>\n",
       "</table>\n",
       "</div>"
      ],
      "text/plain": [
       "                                  image  label\n",
       "33746  ESP_011283_2265_RED-0013-brt.jpg      0"
      ]
     },
     "execution_count": 10,
     "metadata": {},
     "output_type": "execute_result"
    }
   ],
   "source": [
    "#Now let's see if we can find the label for the image we looked at earlier\n",
    "df_labels.query(\"image == 'ESP_011283_2265_RED-0013-brt.jpg'\")"
   ]
  },
  {
   "cell_type": "markdown",
   "id": "e6ee60c6-64b6-4fd2-9fec-f1c5e5e9cc8d",
   "metadata": {},
   "source": [
    "It looks like our image from earlier has a label of \"0\". Let's look at the data dictionary to see what that may mean."
   ]
  },
  {
   "cell_type": "code",
   "execution_count": 11,
   "id": "981bb09d-eb1d-48d7-8e3e-a48e5716402e",
   "metadata": {},
   "outputs": [
    {
     "name": "stdout",
     "output_type": "stream",
     "text": [
      "0,other\n",
      "\n",
      "1,crater\n",
      "\n",
      "2,dark dune\n",
      "\n",
      "3,slope streak\n",
      "\n",
      "4,bright dune\n",
      "\n",
      "5,impact ejecta\n",
      "\n",
      "6,swiss cheese\n",
      "\n",
      "7,spider\n",
      "\n"
     ]
    }
   ],
   "source": [
    "print_file('../data/hirise-map-proj-v3_2/landmarks_map-proj-v3_2_classmap.csv')"
   ]
  },
  {
   "cell_type": "markdown",
   "id": "3a12b329-0251-46b9-a659-bbbc995ef5b9",
   "metadata": {},
   "source": [
    "So it looks like our data dictionary has an entry for 7 different landmarks, with 0 being the \"other\" catagory. This \"other\" category seems to be a catch all catagory that doesn't match the others. Let's get a good idea of how many we have of each in the data we've loaded."
   ]
  },
  {
   "cell_type": "code",
   "execution_count": 12,
   "id": "16b9f202-f146-40e5-8db1-8f4dec164995",
   "metadata": {},
   "outputs": [
    {
     "data": {
      "text/html": [
       "<div>\n",
       "<style scoped>\n",
       "    .dataframe tbody tr th:only-of-type {\n",
       "        vertical-align: middle;\n",
       "    }\n",
       "\n",
       "    .dataframe tbody tr th {\n",
       "        vertical-align: top;\n",
       "    }\n",
       "\n",
       "    .dataframe thead th {\n",
       "        text-align: right;\n",
       "    }\n",
       "</style>\n",
       "<table border=\"1\" class=\"dataframe\">\n",
       "  <thead>\n",
       "    <tr style=\"text-align: right;\">\n",
       "      <th></th>\n",
       "      <th>image</th>\n",
       "    </tr>\n",
       "    <tr>\n",
       "      <th>label</th>\n",
       "      <th></th>\n",
       "    </tr>\n",
       "  </thead>\n",
       "  <tbody>\n",
       "    <tr>\n",
       "      <th>0</th>\n",
       "      <td>52722</td>\n",
       "    </tr>\n",
       "    <tr>\n",
       "      <th>1</th>\n",
       "      <td>5024</td>\n",
       "    </tr>\n",
       "    <tr>\n",
       "      <th>2</th>\n",
       "      <td>766</td>\n",
       "    </tr>\n",
       "    <tr>\n",
       "      <th>3</th>\n",
       "      <td>1575</td>\n",
       "    </tr>\n",
       "    <tr>\n",
       "      <th>4</th>\n",
       "      <td>1654</td>\n",
       "    </tr>\n",
       "    <tr>\n",
       "      <th>5</th>\n",
       "      <td>476</td>\n",
       "    </tr>\n",
       "    <tr>\n",
       "      <th>6</th>\n",
       "      <td>1834</td>\n",
       "    </tr>\n",
       "    <tr>\n",
       "      <th>7</th>\n",
       "      <td>896</td>\n",
       "    </tr>\n",
       "  </tbody>\n",
       "</table>\n",
       "</div>"
      ],
      "text/plain": [
       "       image\n",
       "label       \n",
       "0      52722\n",
       "1       5024\n",
       "2        766\n",
       "3       1575\n",
       "4       1654\n",
       "5        476\n",
       "6       1834\n",
       "7        896"
      ]
     },
     "execution_count": 12,
     "metadata": {},
     "output_type": "execute_result"
    }
   ],
   "source": [
    "df_labels.groupby('label').count()"
   ]
  },
  {
   "cell_type": "markdown",
   "id": "b4a48758-4989-4375-a219-b824948652e9",
   "metadata": {},
   "source": [
    "It looks like the 0 label makes up the vast majority of our data. I can see this as possibly becoming a proble, as most of our data is part of the catch all catagory. This catagory may be difficult for a model to identify, as the only correlation these records have to each other is the fact that they don't fit any other catagory. We might have to consider dropping these, but in doing so we'll loose the majority of the data. This may be worth doing if this data causes us problems, but it isn't a consideration we should take lightly as we wil then be working on a much smaller data set."
   ]
  },
  {
   "cell_type": "markdown",
   "id": "e1eab9ec-ad7e-4677-a187-ca1ca7da0105",
   "metadata": {},
   "source": [
    "Let's attempt to load the images. There's an interesting tutorial [here](https://kapernikov.com/tutorial-image-classification-with-scikit-learn/) that I referenced while trying to figure out how to read the images."
   ]
  },
  {
   "cell_type": "code",
   "execution_count": 13,
   "id": "40d21251-c7df-4e4e-b861-0ce157e40b3b",
   "metadata": {},
   "outputs": [],
   "source": [
    "directory = '../data/hirise-map-proj-v3_2/map-proj-v3_2'\n",
    "directory_contents = os.listdir(directory)\n",
    "#Adjsut this according to your hardware set up... I'm leaving 2 logical\n",
    "#CPUs to perform tasks other than this\n",
    "num_of_workers = os.cpu_count() - 2\n",
    "\n",
    "#Read images in parallel accross workers\n",
    "images = Parallel(n_jobs = num_of_workers)(delayed(imread)(os.path.join(directory, file)) for file in directory_contents)"
   ]
  },
  {
   "cell_type": "code",
   "execution_count": 14,
   "id": "6546e0e0-c8bb-4a40-9f93-ec037a71dfc3",
   "metadata": {},
   "outputs": [
    {
     "name": "stdout",
     "output_type": "stream",
     "text": [
      "<class 'list'>\n",
      "64947\n"
     ]
    }
   ],
   "source": [
    "#Let's take a look to see what the data returned looks like\n",
    "print(type(images))\n",
    "print(len(images))"
   ]
  },
  {
   "cell_type": "code",
   "execution_count": 15,
   "id": "44c8cc3d-48fc-4f93-b60a-fcdb77bfd806",
   "metadata": {},
   "outputs": [
    {
     "data": {
      "text/plain": [
       "array([[167, 167, 167, ..., 175, 175, 175],\n",
       "       [168, 168, 169, ..., 177, 177, 177],\n",
       "       [168, 168, 170, ..., 177, 177, 177],\n",
       "       ...,\n",
       "       [189, 187, 186, ..., 158, 160, 159],\n",
       "       [194, 191, 190, ..., 156, 159, 158],\n",
       "       [199, 197, 195, ..., 158, 161, 162]], dtype=uint8)"
      ]
     },
     "execution_count": 15,
     "metadata": {},
     "output_type": "execute_result"
    }
   ],
   "source": [
    "#Let's look at what one item (image) looks like\n",
    "images[0]"
   ]
  },
  {
   "cell_type": "code",
   "execution_count": 16,
   "id": "81ba996e-f796-4292-a2f4-fdcda18f8be3",
   "metadata": {},
   "outputs": [
    {
     "data": {
      "text/plain": [
       "(227, 227)"
      ]
     },
     "execution_count": 16,
     "metadata": {},
     "output_type": "execute_result"
    }
   ],
   "source": [
    "#Let's also check the shape of the elements\n",
    "images[0].shape"
   ]
  },
  {
   "cell_type": "markdown",
   "id": "45e1f8aa-fc52-4d09-aee3-65036c4f5498",
   "metadata": {},
   "source": [
    "It looks like we have the same number of images as labels (as expected) based on this one folder. We can also see that each image is stored as an array of integers with the shape 227 * 227. This matches what we'd expect returned from `imread`. As stated by the [documentation](https://scikit-image.org/docs/stable/api/skimage.io.html#skimage.io.imread), the method returns an MxN array for a grey image to display the pixels in an array of MxN dimensions. NASA's data catalog states the images are 227 by 227 pixels, so this all matches our expectations.\n",
    "\n",
    "From here we'll want to read images again but into a dataframe, as this will both perform better and be easier to work with than a Python list. Next, we'll want to  match each image up to its labels, we'll split the data into groups, and finally we'll want to write the cleaned data frame to a file for use in the later analysis steps. We'll perform these actions in the subsequent sections."
   ]
  },
  {
   "cell_type": "markdown",
   "id": "53ebc5e6-0ae2-48d6-a23f-55159cf636e6",
   "metadata": {},
   "source": [
    "## Load Image Data\n",
    "\n"
   ]
  },
  {
   "cell_type": "code",
   "execution_count": 17,
   "id": "7407c74c-daaa-4c05-9705-c38fdac49ba3",
   "metadata": {},
   "outputs": [],
   "source": [
    "def read_images (directory, number_of_parallel_workers):\n",
    "    directory_contents = os.listdir(directory)\n",
    "    def image_reading_helper(file_path):\n",
    "        image = imread(file_path)\n",
    "        file_name = os.path.basename(file_path)\n",
    "        return (file_name, image)\n",
    "    images = Parallel(n_jobs = number_of_parallel_workers)(delayed(image_reading_helper)(os.path.join(directory, file)) for file in directory_contents)\n",
    "    df_images = pd.DataFrame(data = images, columns = ['file_name', 'image'])\n",
    "    return df_images\n",
    "\n",
    "num_of_workers = os.cpu_count() - 2\n",
    "df_images = read_images('../data/hirise-map-proj-v3_2/map-proj-v3_2', num_of_workers)"
   ]
  },
  {
   "cell_type": "code",
   "execution_count": 18,
   "id": "741de1d5-7221-4eb4-ad84-5095db9eb221",
   "metadata": {},
   "outputs": [
    {
     "data": {
      "text/html": [
       "<div>\n",
       "<style scoped>\n",
       "    .dataframe tbody tr th:only-of-type {\n",
       "        vertical-align: middle;\n",
       "    }\n",
       "\n",
       "    .dataframe tbody tr th {\n",
       "        vertical-align: top;\n",
       "    }\n",
       "\n",
       "    .dataframe thead th {\n",
       "        text-align: right;\n",
       "    }\n",
       "</style>\n",
       "<table border=\"1\" class=\"dataframe\">\n",
       "  <thead>\n",
       "    <tr style=\"text-align: right;\">\n",
       "      <th></th>\n",
       "      <th>file_name</th>\n",
       "      <th>image</th>\n",
       "    </tr>\n",
       "  </thead>\n",
       "  <tbody>\n",
       "    <tr>\n",
       "      <th>0</th>\n",
       "      <td>ESP_012810_0925_RED-0115-brt.jpg</td>\n",
       "      <td>[[167, 167, 167, 168, 168, 168, 166, 164, 162,...</td>\n",
       "    </tr>\n",
       "    <tr>\n",
       "      <th>1</th>\n",
       "      <td>ESP_024646_2570_RED-0016-r270.jpg</td>\n",
       "      <td>[[183, 180, 175, 167, 165, 164, 161, 163, 165,...</td>\n",
       "    </tr>\n",
       "    <tr>\n",
       "      <th>2</th>\n",
       "      <td>PSP_010087_1555_RED-0181-r90.jpg</td>\n",
       "      <td>[[110, 108, 106, 106, 107, 105, 115, 115, 100,...</td>\n",
       "    </tr>\n",
       "    <tr>\n",
       "      <th>3</th>\n",
       "      <td>ESP_025151_1570_RED-0151-r90.jpg</td>\n",
       "      <td>[[47, 45, 44, 45, 46, 46, 45, 44, 42, 44, 44, ...</td>\n",
       "    </tr>\n",
       "    <tr>\n",
       "      <th>4</th>\n",
       "      <td>ESP_012494_2050_RED-0044-r90.jpg</td>\n",
       "      <td>[[114, 111, 115, 120, 120, 120, 120, 117, 118,...</td>\n",
       "    </tr>\n",
       "  </tbody>\n",
       "</table>\n",
       "</div>"
      ],
      "text/plain": [
       "                           file_name   \n",
       "0   ESP_012810_0925_RED-0115-brt.jpg  \\\n",
       "1  ESP_024646_2570_RED-0016-r270.jpg   \n",
       "2   PSP_010087_1555_RED-0181-r90.jpg   \n",
       "3   ESP_025151_1570_RED-0151-r90.jpg   \n",
       "4   ESP_012494_2050_RED-0044-r90.jpg   \n",
       "\n",
       "                                               image  \n",
       "0  [[167, 167, 167, 168, 168, 168, 166, 164, 162,...  \n",
       "1  [[183, 180, 175, 167, 165, 164, 161, 163, 165,...  \n",
       "2  [[110, 108, 106, 106, 107, 105, 115, 115, 100,...  \n",
       "3  [[47, 45, 44, 45, 46, 46, 45, 44, 42, 44, 44, ...  \n",
       "4  [[114, 111, 115, 120, 120, 120, 120, 117, 118,...  "
      ]
     },
     "execution_count": 18,
     "metadata": {},
     "output_type": "execute_result"
    }
   ],
   "source": [
    "df_images.head()"
   ]
  },
  {
   "cell_type": "markdown",
   "id": "057c5184-a9c7-4492-befa-a3afb5bbe867",
   "metadata": {},
   "source": [
    "## Transform and Clean"
   ]
  },
  {
   "cell_type": "code",
   "execution_count": 19,
   "id": "ca057ff0-304b-48f3-aad4-fd5f06571b5d",
   "metadata": {},
   "outputs": [],
   "source": [
    "df_labels['file_name'] = df_labels['image']\n",
    "df_labels.drop(axis = 1, columns = ['image'], inplace = True)"
   ]
  },
  {
   "cell_type": "code",
   "execution_count": 20,
   "id": "c9462b99-37cd-4ee5-b1ff-7657d462d28f",
   "metadata": {},
   "outputs": [
    {
     "data": {
      "text/html": [
       "<div>\n",
       "<style scoped>\n",
       "    .dataframe tbody tr th:only-of-type {\n",
       "        vertical-align: middle;\n",
       "    }\n",
       "\n",
       "    .dataframe tbody tr th {\n",
       "        vertical-align: top;\n",
       "    }\n",
       "\n",
       "    .dataframe thead th {\n",
       "        text-align: right;\n",
       "    }\n",
       "</style>\n",
       "<table border=\"1\" class=\"dataframe\">\n",
       "  <thead>\n",
       "    <tr style=\"text-align: right;\">\n",
       "      <th></th>\n",
       "      <th>file_name</th>\n",
       "      <th>image</th>\n",
       "      <th>label</th>\n",
       "    </tr>\n",
       "  </thead>\n",
       "  <tbody>\n",
       "    <tr>\n",
       "      <th>0</th>\n",
       "      <td>ESP_012810_0925_RED-0115-brt.jpg</td>\n",
       "      <td>[[167, 167, 167, 168, 168, 168, 166, 164, 162,...</td>\n",
       "      <td>6</td>\n",
       "    </tr>\n",
       "    <tr>\n",
       "      <th>1</th>\n",
       "      <td>ESP_024646_2570_RED-0016-r270.jpg</td>\n",
       "      <td>[[183, 180, 175, 167, 165, 164, 161, 163, 165,...</td>\n",
       "      <td>4</td>\n",
       "    </tr>\n",
       "    <tr>\n",
       "      <th>2</th>\n",
       "      <td>PSP_010087_1555_RED-0181-r90.jpg</td>\n",
       "      <td>[[110, 108, 106, 106, 107, 105, 115, 115, 100,...</td>\n",
       "      <td>1</td>\n",
       "    </tr>\n",
       "    <tr>\n",
       "      <th>3</th>\n",
       "      <td>ESP_025151_1570_RED-0151-r90.jpg</td>\n",
       "      <td>[[47, 45, 44, 45, 46, 46, 45, 44, 42, 44, 44, ...</td>\n",
       "      <td>0</td>\n",
       "    </tr>\n",
       "    <tr>\n",
       "      <th>4</th>\n",
       "      <td>ESP_012494_2050_RED-0044-r90.jpg</td>\n",
       "      <td>[[114, 111, 115, 120, 120, 120, 120, 117, 118,...</td>\n",
       "      <td>0</td>\n",
       "    </tr>\n",
       "  </tbody>\n",
       "</table>\n",
       "</div>"
      ],
      "text/plain": [
       "                           file_name   \n",
       "0   ESP_012810_0925_RED-0115-brt.jpg  \\\n",
       "1  ESP_024646_2570_RED-0016-r270.jpg   \n",
       "2   PSP_010087_1555_RED-0181-r90.jpg   \n",
       "3   ESP_025151_1570_RED-0151-r90.jpg   \n",
       "4   ESP_012494_2050_RED-0044-r90.jpg   \n",
       "\n",
       "                                               image  label  \n",
       "0  [[167, 167, 167, 168, 168, 168, 166, 164, 162,...      6  \n",
       "1  [[183, 180, 175, 167, 165, 164, 161, 163, 165,...      4  \n",
       "2  [[110, 108, 106, 106, 107, 105, 115, 115, 100,...      1  \n",
       "3  [[47, 45, 44, 45, 46, 46, 45, 44, 42, 44, 44, ...      0  \n",
       "4  [[114, 111, 115, 120, 120, 120, 120, 117, 118,...      0  "
      ]
     },
     "execution_count": 20,
     "metadata": {},
     "output_type": "execute_result"
    }
   ],
   "source": [
    "df_labeled_images = df_images.merge(df_labels, on = 'file_name', how = 'inner')\n",
    "df_labeled_images.head()"
   ]
  },
  {
   "cell_type": "code",
   "execution_count": 21,
   "id": "1bc2013c-a202-4649-8698-a3b7e118cc89",
   "metadata": {},
   "outputs": [
    {
     "name": "stdout",
     "output_type": "stream",
     "text": [
      "<class 'pandas.core.frame.DataFrame'>\n",
      "RangeIndex: 64947 entries, 0 to 64946\n",
      "Data columns (total 3 columns):\n",
      " #   Column     Non-Null Count  Dtype \n",
      "---  ------     --------------  ----- \n",
      " 0   file_name  64947 non-null  object\n",
      " 1   image      64947 non-null  object\n",
      " 2   label      64947 non-null  int64 \n",
      "dtypes: int64(1), object(2)\n",
      "memory usage: 1.5+ MB\n"
     ]
    }
   ],
   "source": [
    "df_labeled_images.info()"
   ]
  },
  {
   "cell_type": "code",
   "execution_count": 22,
   "id": "8fe4951e-2fd8-4f07-9c3e-c4fde56d6043",
   "metadata": {},
   "outputs": [
    {
     "data": {
      "text/plain": [
       "(227, 227)"
      ]
     },
     "execution_count": 22,
     "metadata": {},
     "output_type": "execute_result"
    }
   ],
   "source": [
    "df_labeled_images['image'][0].shape"
   ]
  },
  {
   "cell_type": "markdown",
   "id": "ba0cd1be-ebb1-4e1f-8c00-fc4f58658f9f",
   "metadata": {},
   "source": [
    "## Split Data Set"
   ]
  },
  {
   "cell_type": "code",
   "execution_count": 23,
   "id": "6cf4c5a6-22fc-499d-b8a1-2fc5ac846bf2",
   "metadata": {},
   "outputs": [],
   "source": [
    "from sklearn.model_selection import train_test_split\n",
    "\n",
    "#We want 80% of the data for training\n",
    "X_train, X_test, y_train, y_test  = train_test_split(df_labeled_images['file_name'], df_labeled_images['label'], train_size = 0.8, random_state = 13)"
   ]
  },
  {
   "cell_type": "code",
   "execution_count": 24,
   "id": "8f7fb2a7-728b-4b69-bfb1-0ef38bb48128",
   "metadata": {},
   "outputs": [
    {
     "name": "stdout",
     "output_type": "stream",
     "text": [
      "X_train size:  51957 \tExpected size:  51957.600000000006\n",
      "y_train size:  51957 \tExpected size:  51957.600000000006\n",
      "X_test size:  12990 \tExpected size:  12989.400000000001\n",
      "y_test size:  12990 \tExpected size:  12989.400000000001\n"
     ]
    }
   ],
   "source": [
    "#Let's make sure we got the right sample sizes for each group\n",
    "full_data_size = df_labeled_images.shape[0]\n",
    "\n",
    "#Train data set\n",
    "print('X_train size: ', X_train.size, '\\tExpected size: ', full_data_size * 0.8)\n",
    "print('y_train size: ', y_train.size, '\\tExpected size: ', full_data_size * 0.8)\n",
    "\n",
    "#Test validation data set\n",
    "print('X_test size: ', X_test.size, '\\tExpected size: ', full_data_size * 0.2)\n",
    "print('y_test size: ', y_test.size, '\\tExpected size: ', full_data_size * 0.2)"
   ]
  },
  {
   "cell_type": "code",
   "execution_count": 25,
   "id": "b165e6b2-b429-4c02-acb9-6118627331ed",
   "metadata": {},
   "outputs": [
    {
     "name": "stdout",
     "output_type": "stream",
     "text": [
      "Label distribution of  Full Data Set :\n",
      "label\n",
      "0    0.811770\n",
      "1    0.077355\n",
      "2    0.011794\n",
      "3    0.024251\n",
      "4    0.025467\n",
      "5    0.007329\n",
      "6    0.028238\n",
      "7    0.013796\n",
      "Name: label, dtype: float64\n",
      "\n",
      "Label distribution of  Training Set :\n",
      "label\n",
      "0    0.813654\n",
      "1    0.076178\n",
      "2    0.011644\n",
      "3    0.023962\n",
      "4    0.025406\n",
      "5    0.007218\n",
      "6    0.028273\n",
      "7    0.013665\n",
      "Name: label, dtype: float64\n",
      "\n",
      "Label distribution of  Test Set :\n",
      "label\n",
      "0    0.804234\n",
      "1    0.082063\n",
      "2    0.012394\n",
      "3    0.025404\n",
      "4    0.025712\n",
      "5    0.007775\n",
      "6    0.028099\n",
      "7    0.014319\n",
      "Name: label, dtype: float64\n",
      "\n"
     ]
    }
   ],
   "source": [
    "#Check data distribution\n",
    "\n",
    "def print_group_distribution (labels, group_name):\n",
    "    print('Label distribution of ', group_name, ':')\n",
    "    print(labels.groupby(labels).count() / labels.shape[0])\n",
    "    #Add blank line at the end\n",
    "    print()\n",
    "\n",
    "group_labels = [(df_labeled_images['label'], 'Full Data Set'), (y_train, 'Training Set'), (y_test, 'Test Set')]\n",
    "for label_set, data_set_name in group_labels:\n",
    "    print_group_distribution(label_set, data_set_name)"
   ]
  },
  {
   "cell_type": "code",
   "execution_count": null,
   "id": "9c35743e-49df-47f2-a31a-9aef147c190a",
   "metadata": {},
   "outputs": [],
   "source": []
  },
  {
   "cell_type": "markdown",
   "id": "c12e0e25-dca7-45a1-8a11-364ef9731a5a",
   "metadata": {},
   "source": [
    "## Write Data to Files"
   ]
  },
  {
   "cell_type": "code",
   "execution_count": 26,
   "id": "b67b0f76-da37-4d6b-b1f9-8a01b759c9b5",
   "metadata": {},
   "outputs": [],
   "source": [
    "os.makedirs('../data/processed_data', exist_ok = True)\n",
    "os.makedirs('../data/processed_data/training_images', exist_ok = True)\n",
    "os.makedirs('../data/processed_data/testing_images', exist_ok = True)"
   ]
  },
  {
   "cell_type": "code",
   "execution_count": 27,
   "id": "840599d6-0224-4122-9717-52ca7444e19c",
   "metadata": {},
   "outputs": [
    {
     "data": {
      "text/plain": [
       "array(['ESP_020606_1445_RED-0420-brt.jpg',\n",
       "       'PSP_008932_1645_RED-0026-fh.jpg',\n",
       "       'ESP_016773_2010_RED-0193-r90.jpg', ...,\n",
       "       'ESP_016240_2655_RED-0033-fh.jpg',\n",
       "       'ESP_011386_2065_RED-0093-fh.jpg',\n",
       "       'ESP_029014_2150_RED-0715-fh.jpg'], dtype=object)"
      ]
     },
     "execution_count": 27,
     "metadata": {},
     "output_type": "execute_result"
    }
   ],
   "source": [
    "X_train.values"
   ]
  },
  {
   "cell_type": "code",
   "execution_count": 28,
   "id": "287e1693-08bb-486d-a109-adf765f61dd1",
   "metadata": {},
   "outputs": [
    {
     "data": {
      "text/plain": [
       "pandas.core.series.Series"
      ]
     },
     "execution_count": 28,
     "metadata": {},
     "output_type": "execute_result"
    }
   ],
   "source": [
    "type(X_train)"
   ]
  },
  {
   "cell_type": "code",
   "execution_count": 29,
   "id": "751bd0a5-a663-4664-afbf-5a7897033d00",
   "metadata": {},
   "outputs": [
    {
     "name": "stdout",
     "output_type": "stream",
     "text": [
      "        Name     Full Path\n",
      "ESP_012810_0925_RED-0115-brt.jpg  ../data/processed_data/training_images/ESP_012810_0925_RED-0115-brt.jpg\n",
      "ESP_024646_2570_RED-0016-r270.jpg  ../data/processed_data/training_images/ESP_024646_2570_RED-0016-r270.jpg\n",
      "PSP_010087_1555_RED-0181-r90.jpg  ../data/processed_data/training_images/PSP_010087_1555_RED-0181-r90.jpg\n",
      "ESP_012494_2050_RED-0044-r90.jpg  ../data/processed_data/training_images/ESP_012494_2050_RED-0044-r90.jpg\n",
      "ESP_012637_0935_RED-0236.jpg  ../data/processed_data/training_images/ESP_012637_0935_RED-0236.jpg\n",
      "ESP_015897_2655_RED-0060-fv.jpg  ../data/processed_data/training_images/ESP_015897_2655_RED-0060-fv.jpg\n",
      "ESP_020606_1445_RED-0656-brt.jpg  ../data/processed_data/training_images/ESP_020606_1445_RED-0656-brt.jpg\n",
      "ESP_014079_1715_RED-0540-fh.jpg  ../data/processed_data/training_images/ESP_014079_1715_RED-0540-fh.jpg\n",
      "ESP_027802_1685_RED-0216-fh.jpg  ../data/processed_data/training_images/ESP_027802_1685_RED-0216-fh.jpg\n",
      "ESP_018784_2050_RED-0214-brt.jpg  ../data/processed_data/training_images/ESP_018784_2050_RED-0214-brt.jpg\n",
      "ESP_016726_1720_RED-0015-r180.jpg  ../data/processed_data/training_images/ESP_016726_1720_RED-0015-r180.jpg\n",
      "ESP_028208_1950_RED-0180-brt.jpg  ../data/processed_data/training_images/ESP_028208_1950_RED-0180-brt.jpg\n",
      "ESP_034557_1510_RED-0553-r90.jpg  ../data/processed_data/training_images/ESP_034557_1510_RED-0553-r90.jpg\n",
      "ESP_011623_2100_RED-0467.jpg  ../data/processed_data/training_images/ESP_011623_2100_RED-0467.jpg\n",
      "ESP_026472_1410_RED-0224-fv.jpg  ../data/processed_data/training_images/ESP_026472_1410_RED-0224-fv.jpg\n",
      "Showing 15 of 51957 items\n"
     ]
    }
   ],
   "source": [
    "X_train.apply(copy_to_directory, args = ('../data/hirise-map-proj-v3_2/map-proj-v3_2', '../data/processed_data/training_images',));\n",
    "print_dir('../data/processed_data/training_images')"
   ]
  },
  {
   "cell_type": "code",
   "execution_count": 30,
   "id": "779cae83-7601-4bcd-8e4e-4de313b8b13a",
   "metadata": {},
   "outputs": [
    {
     "name": "stdout",
     "output_type": "stream",
     "text": [
      "        Name     Full Path\n",
      "ESP_025151_1570_RED-0151-r90.jpg  ../data/processed_data/testing_images/ESP_025151_1570_RED-0151-r90.jpg\n",
      "ESP_018321_2565_RED-0069-r270.jpg  ../data/processed_data/testing_images/ESP_018321_2565_RED-0069-r270.jpg\n",
      "ESP_016631_2535_RED-0004-r180.jpg  ../data/processed_data/testing_images/ESP_016631_2535_RED-0004-r180.jpg\n",
      "PSP_010087_1555_RED-0306.jpg  ../data/processed_data/testing_images/PSP_010087_1555_RED-0306.jpg\n",
      "ESP_011881_1585_RED-0041-brt.jpg  ../data/processed_data/testing_images/ESP_011881_1585_RED-0041-brt.jpg\n",
      "ESP_017770_1990_RED-0355-r90.jpg  ../data/processed_data/testing_images/ESP_017770_1990_RED-0355-r90.jpg\n",
      "ESP_016607_2080_RED-0028-r180.jpg  ../data/processed_data/testing_images/ESP_016607_2080_RED-0028-r180.jpg\n",
      "ESP_011623_2100_RED-0465-fv.jpg  ../data/processed_data/testing_images/ESP_011623_2100_RED-0465-fv.jpg\n",
      "PSP_008932_1645_RED-0067-r180.jpg  ../data/processed_data/testing_images/PSP_008932_1645_RED-0067-r180.jpg\n",
      "ESP_024646_2570_RED-0020-r270.jpg  ../data/processed_data/testing_images/ESP_024646_2570_RED-0020-r270.jpg\n",
      "ESP_029014_2150_RED-0282.jpg  ../data/processed_data/testing_images/ESP_029014_2150_RED-0282.jpg\n",
      "PSP_006879_2335_RED-1046-r180.jpg  ../data/processed_data/testing_images/PSP_006879_2335_RED-1046-r180.jpg\n",
      "ESP_020606_1445_RED-0426-r180.jpg  ../data/processed_data/testing_images/ESP_020606_1445_RED-0426-r180.jpg\n",
      "ESP_029014_2150_RED-0811.jpg  ../data/processed_data/testing_images/ESP_029014_2150_RED-0811.jpg\n",
      "ESP_025758_1475_RED-0189-r270.jpg  ../data/processed_data/testing_images/ESP_025758_1475_RED-0189-r270.jpg\n",
      "Showing 15 of 12990 items\n"
     ]
    }
   ],
   "source": [
    "X_test.apply(copy_to_directory, args = ('../data/hirise-map-proj-v3_2/map-proj-v3_2', '../data/processed_data/testing_images',));\n",
    "print_dir('../data/processed_data/testing_images')"
   ]
  },
  {
   "cell_type": "code",
   "execution_count": 31,
   "id": "6236ef40-7895-432c-9761-7280a2fb9f90",
   "metadata": {},
   "outputs": [
    {
     "data": {
      "text/plain": [
       "51957"
      ]
     },
     "execution_count": 31,
     "metadata": {},
     "output_type": "execute_result"
    }
   ],
   "source": [
    "train_labels_sorted = df_labeled_images.merge(X_train, how = 'inner', left_index = True, right_index = True).sort_values('file_name_x')['label']\n",
    "train_labels_sorted = train_labels_sorted.to_list()\n",
    "len(train_labels_sorted)"
   ]
  },
  {
   "cell_type": "code",
   "execution_count": 32,
   "id": "28c885e2-c901-47ff-9a70-18d7bf626135",
   "metadata": {},
   "outputs": [
    {
     "data": {
      "text/plain": [
       "12990"
      ]
     },
     "execution_count": 32,
     "metadata": {},
     "output_type": "execute_result"
    }
   ],
   "source": [
    "test_labels_sorted = df_labeled_images.merge(X_test, how = 'inner', left_index = True, right_index = True).sort_values('file_name_x')['label']\n",
    "test_labels_sorted = test_labels_sorted.to_list()\n",
    "len(test_labels_sorted)"
   ]
  },
  {
   "cell_type": "code",
   "execution_count": 33,
   "id": "3fcd983d-f898-4cb4-931d-9360c5794b61",
   "metadata": {},
   "outputs": [],
   "source": [
    "#Write labeled image DF\n",
    "pickle_as_file(df_labeled_images, '../data/processed_data/labeled_images.bin')"
   ]
  },
  {
   "cell_type": "code",
   "execution_count": 34,
   "id": "263d1ec9-5054-4d7d-965c-e5ade36cf5bc",
   "metadata": {},
   "outputs": [],
   "source": [
    "pickle_as_file(train_labels_sorted, '../data/processed_data/train_labels_sorted.bin')"
   ]
  },
  {
   "cell_type": "code",
   "execution_count": 35,
   "id": "40dc190f-616d-4779-8929-b2a5c1149bc8",
   "metadata": {},
   "outputs": [],
   "source": [
    "pickle_as_file(test_labels_sorted, '../data/processed_data/test_labels_sorted.bin')"
   ]
  },
  {
   "cell_type": "code",
   "execution_count": 36,
   "id": "981e08be-7fc8-4c72-9c34-736ef953e647",
   "metadata": {},
   "outputs": [],
   "source": [
    "#Silence debug messages for cleaner output\n",
    "os.environ['TF_CPP_MIN_LOG_LEVEL'] = '2'\n",
    "\n",
    "#Write training data\n",
    "os.makedirs('../data/processed_data/training_ds', exist_ok = True)\n",
    "#train_ds.save('../data/processed_data/training_ds')"
   ]
  },
  {
   "cell_type": "code",
   "execution_count": 37,
   "id": "07ecc6ad-84e7-42f5-90db-c749da1c825f",
   "metadata": {},
   "outputs": [],
   "source": [
    "#Write validation data\n",
    "os.makedirs('../data/processed_data/validation_ds', exist_ok = True)\n",
    "#val_ds.save('../data/processed_data/validation_ds')\n",
    "#pickle_as_file(val_ds, '../data/processed_data/validation_ds.bin')"
   ]
  },
  {
   "cell_type": "code",
   "execution_count": 38,
   "id": "72a5df97-6609-45b1-85c3-1f5530275441",
   "metadata": {},
   "outputs": [
    {
     "name": "stdout",
     "output_type": "stream",
     "text": [
      "        Name     Full Path\n",
      "labeled_images.bin  ../data/processed_data/labeled_images.bin\n",
      "train_labels_sorted.bin  ../data/processed_data/train_labels_sorted.bin\n",
      "validation_ds  ../data/processed_data/validation_ds\n",
      "training_images  ../data/processed_data/training_images\n",
      "test_labels_sorted.bin  ../data/processed_data/test_labels_sorted.bin\n",
      "testing_images  ../data/processed_data/testing_images\n",
      " training_ds  ../data/processed_data/training_ds\n",
      "Showing 7 of 7 items\n"
     ]
    }
   ],
   "source": [
    "#Check the data directory to verify the files are there\n",
    "print_dir('../data/processed_data')"
   ]
  }
 ],
 "metadata": {
  "kernelspec": {
   "display_name": "Python 3 (ipykernel)",
   "language": "python",
   "name": "python3"
  },
  "language_info": {
   "codemirror_mode": {
    "name": "ipython",
    "version": 3
   },
   "file_extension": ".py",
   "mimetype": "text/x-python",
   "name": "python",
   "nbconvert_exporter": "python",
   "pygments_lexer": "ipython3",
   "version": "3.9.0"
  }
 },
 "nbformat": 4,
 "nbformat_minor": 5
}
