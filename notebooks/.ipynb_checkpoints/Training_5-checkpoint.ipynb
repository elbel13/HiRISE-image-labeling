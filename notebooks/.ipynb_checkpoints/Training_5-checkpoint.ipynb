{
 "cells": [
  {
   "cell_type": "code",
   "execution_count": 1,
   "id": "860132f0-0f31-4c10-8e1b-dff30719ccfc",
   "metadata": {},
   "outputs": [
    {
     "name": "stderr",
     "output_type": "stream",
     "text": [
      "2024-03-13 08:09:58.076145: I tensorflow/core/platform/cpu_feature_guard.cc:182] This TensorFlow binary is optimized to use available CPU instructions in performance-critical operations.\n",
      "To enable the following instructions: SSE4.1 SSE4.2 AVX, in other operations, rebuild TensorFlow with the appropriate compiler flags.\n"
     ]
    }
   ],
   "source": [
    "import matplotlib.pyplot as plt\n",
    "import numpy as np\n",
    "import tensorflow as tf\n",
    "\n",
    "#from tensorflow.data.Dataset import load\n",
    "from tensorflow import keras\n",
    "from tensorflow.keras import layers\n",
    "from tensorflow.keras.models import Sequential\n",
    "import keras_tuner as kt\n",
    "import pandas as pd\n",
    "\n",
    "import os\n",
    "from file_helpers import unpickle_from_file"
   ]
  },
  {
   "cell_type": "code",
   "execution_count": 2,
   "id": "3fe2e603-910f-4abb-8fe2-8119f9ab787d",
   "metadata": {},
   "outputs": [],
   "source": [
    "train_labels_sorted = unpickle_from_file('../data/processed_data/train_labels_sorted.bin')"
   ]
  },
  {
   "cell_type": "code",
   "execution_count": 3,
   "id": "36c0e809-3a47-4e7c-95f6-f944a1149806",
   "metadata": {},
   "outputs": [
    {
     "name": "stdout",
     "output_type": "stream",
     "text": [
      "Found 51957 files belonging to 8 classes.\n",
      "Using 44164 files for training.\n"
     ]
    },
    {
     "name": "stderr",
     "output_type": "stream",
     "text": [
      "2024-03-13 08:10:04.136938: I tensorflow/core/common_runtime/process_util.cc:146] Creating new thread pool with default inter op setting: 2. Tune using inter_op_parallelism_threads for best performance.\n"
     ]
    }
   ],
   "source": [
    "#Read training data\n",
    "batch_size = 75\n",
    "img_height = 227\n",
    "img_width = 227\n",
    "\n",
    "train_ds = tf.keras.utils.image_dataset_from_directory(\n",
    "  '../data/processed_data/training_images',\n",
    "  validation_split=0.15,\n",
    "  subset=\"training\",\n",
    "  seed=123,\n",
    "  image_size=(img_height, img_width),\n",
    "  batch_size=batch_size,\n",
    "labels = train_labels_sorted)"
   ]
  },
  {
   "cell_type": "code",
   "execution_count": 4,
   "id": "ab79ebde-5e41-4269-a6c2-9cc9ad0442c3",
   "metadata": {},
   "outputs": [
    {
     "name": "stdout",
     "output_type": "stream",
     "text": [
      "Found 51957 files belonging to 8 classes.\n",
      "Using 7793 files for validation.\n"
     ]
    }
   ],
   "source": [
    "#Read validation data\n",
    "\n",
    "val_ds = tf.keras.utils.image_dataset_from_directory(\n",
    "  '../data/processed_data/training_images',\n",
    "  validation_split=0.15,\n",
    "  subset=\"validation\",\n",
    "  seed=123,\n",
    "  image_size=(img_height, img_width),\n",
    "  batch_size=batch_size,\n",
    "labels = train_labels_sorted)"
   ]
  },
  {
   "cell_type": "code",
   "execution_count": 5,
   "id": "2c1ed2a6-d98a-4995-9e93-e4c6bf80903a",
   "metadata": {},
   "outputs": [],
   "source": [
    "#Try to keep things in memory for performance reasons\n",
    "AUTOTUNE = tf.data.AUTOTUNE\n",
    "\n",
    "train_ds = train_ds.cache().shuffle(1000).prefetch(buffer_size=AUTOTUNE)\n",
    "val_ds = val_ds.cache().prefetch(buffer_size=AUTOTUNE)"
   ]
  },
  {
   "cell_type": "code",
   "execution_count": 6,
   "id": "18374aaa-5783-48d7-a110-405a258d3ef6",
   "metadata": {},
   "outputs": [],
   "source": [
    "def model_builder(hp):\n",
    "    img_height = 227\n",
    "    img_width = 227\n",
    "\n",
    "    num_classes = 8\n",
    "\n",
    "    # Tune the number of units in the first Dense layer\n",
    "    # Choose an optimal value between 32-512\n",
    "    hp_units = hp.Int('units', min_value=32, max_value=512, step=32)\n",
    "    # Tune the learning rate for the optimizer\n",
    "    # Choose an optimal value from 0.01, 0.001, or 0.0001\n",
    "    hp_learning_rate = hp.Choice('learning_rate', values=[1e-2, 1e-3, 1e-4])\n",
    "    #Droupout isn't necessarily independent like we've been treating it;\n",
    "    #let's give a chance to retune it if necessary\n",
    "    hp_dropout_rate = hp.Choice('dropout_rate', values=[0.2, 0.3, 0.4, 0.5])\n",
    "    \n",
    "    model = Sequential([\n",
    "      layers.Rescaling(1./255, input_shape=(img_height, img_width, 3)),\n",
    "      layers.Conv2D(16, 3, padding='same', activation='relu'),\n",
    "      layers.MaxPooling2D(),\n",
    "      layers.Conv2D(32, 3, padding='same', activation='relu'),\n",
    "      layers.MaxPooling2D(),\n",
    "      layers.Conv2D(64, 3, padding='same', activation='relu'),\n",
    "      layers.MaxPooling2D(),\n",
    "      layers.Dropout(hp_dropout_rate),\n",
    "      layers.Flatten(),\n",
    "      layers.Dense(hp_units, activation='relu'),\n",
    "      layers.Dense(num_classes)\n",
    "    ])\n",
    "\n",
    "    model.compile(optimizer=keras.optimizers.Adam(learning_rate=hp_learning_rate),\n",
    "              loss=tf.keras.losses.SparseCategoricalCrossentropy(from_logits=True),\n",
    "              metrics=['accuracy'])\n",
    "\n",
    "    return model"
   ]
  },
  {
   "cell_type": "code",
   "execution_count": 7,
   "id": "d217c71c-c9e6-461e-97ae-6f01f3e42b38",
   "metadata": {},
   "outputs": [
    {
     "name": "stdout",
     "output_type": "stream",
     "text": [
      "Reloading Tuner from my_dir/intro_to_kt/tuner0.json\n"
     ]
    }
   ],
   "source": [
    "tuner = kt.Hyperband(model_builder,\n",
    "                     objective='val_accuracy',\n",
    "                     max_epochs=10,\n",
    "                     factor=3,\n",
    "                     directory='my_dir',\n",
    "                     project_name='intro_to_kt')"
   ]
  },
  {
   "cell_type": "code",
   "execution_count": 8,
   "id": "a515d5d6-1963-4f48-b822-929435ee0589",
   "metadata": {},
   "outputs": [],
   "source": [
    "#We had some models with loss less than 1, so 2 is more than a reasonable cutoff\n",
    "stop_early = tf.keras.callbacks.EarlyStopping(monitor = 'val_loss', patience = 2)"
   ]
  },
  {
   "cell_type": "code",
   "execution_count": null,
   "id": "d6ead552-ef27-41bc-9298-8d5414bbd0d2",
   "metadata": {},
   "outputs": [
    {
     "name": "stdout",
     "output_type": "stream",
     "text": [
      "Trial 10 Complete [01h 14m 07s]\n",
      "val_accuracy: 0.7774926424026489\n",
      "\n",
      "Best val_accuracy So Far: 0.8181701302528381\n",
      "Total elapsed time: 12h 52m 56s\n",
      "\n",
      "Search: Running Trial #11\n",
      "\n",
      "Value             |Best Value So Far |Hyperparameter\n",
      "96                |256               |units\n",
      "0.001             |0.01              |learning_rate\n",
      "0.3               |0.2               |dropout_rate\n",
      "2                 |2                 |tuner/epochs\n",
      "0                 |0                 |tuner/initial_epoch\n",
      "2                 |2                 |tuner/bracket\n",
      "0                 |0                 |tuner/round\n",
      "\n",
      "Epoch 1/2\n",
      "589/589 [==============================] - 2238s 4s/step - loss: 0.6704 - accuracy: 0.8236 - val_loss: 1.1258 - val_accuracy: 0.7853\n",
      "Epoch 2/2\n",
      "512/589 [=========================>....] - ETA: 4:53 - loss: 0.4927 - accuracy: 0.8544"
     ]
    }
   ],
   "source": [
    "#Original example calls for 50, but training time will be\n",
    "#very long for our model with 50. We'll do 20 max instead\n",
    "tuner.search(train_ds, validation_data = val_ds, epochs=20, callbacks=[stop_early])\n",
    "\n",
    "# Get the optimal hyperparameters\n",
    "best_hps=tuner.get_best_hyperparameters(num_trials=1)[0]\n",
    "\n",
    "print(f\"\"\"\n",
    "The hyperparameter search is complete. The optimal number of units in the first densely-connected\n",
    "layer is {best_hps.get('units')} and the optimal learning rate for the optimizer\n",
    "is {best_hps.get('learning_rate')}.\n",
    "\"\"\")"
   ]
  },
  {
   "cell_type": "code",
   "execution_count": null,
   "id": "6677c11b-9ae5-4433-9b00-47a013f21240",
   "metadata": {},
   "outputs": [],
   "source": [
    "# Build the model with the optimal hyperparameters and train it on the data for 10 epochs\n",
    "model = tuner.hypermodel.build(best_hps)\n",
    "history = model.fit(train_ds, validation_data = val_ds, epochs=10)\n",
    "\n",
    "val_acc_per_epoch = history.history['val_accuracy']\n",
    "best_epoch = val_acc_per_epoch.index(max(val_acc_per_epoch)) + 1\n",
    "print('Best epoch: %d' % (best_epoch,))"
   ]
  },
  {
   "cell_type": "code",
   "execution_count": null,
   "id": "7a6368a9-1699-4da6-9742-3f3f27deb34d",
   "metadata": {},
   "outputs": [],
   "source": [
    "hypermodel = tuner.hypermodel.build(best_hps)\n",
    "\n",
    "# Retrain the model\n",
    "history = hypermodel.fit(train_ds, validation_data = val_ds, epochs = best_epoch)"
   ]
  },
  {
   "cell_type": "code",
   "execution_count": null,
   "id": "e5836cf8-5896-4a79-9499-b75edcf8504d",
   "metadata": {},
   "outputs": [],
   "source": [
    "acc = history.history['accuracy']\n",
    "val_acc = history.history['val_accuracy']\n",
    "\n",
    "loss = history.history['loss']\n",
    "val_loss = history.history['val_loss']\n",
    "\n",
    "epochs_range = range(epochs)\n",
    "\n",
    "plt.figure(figsize=(8, 8))\n",
    "plt.subplot(1, 2, 1)\n",
    "plt.plot(epochs_range, acc, label='Training Accuracy')\n",
    "plt.plot(epochs_range, val_acc, label='Validation Accuracy')\n",
    "plt.legend(loc='lower right')\n",
    "plt.title('Training and Validation Accuracy')\n",
    "\n",
    "plt.subplot(1, 2, 2)\n",
    "plt.plot(epochs_range, loss, label='Training Loss')\n",
    "plt.plot(epochs_range, val_loss, label='Validation Loss')\n",
    "plt.legend(loc='upper right')\n",
    "plt.title('Training and Validation Loss')\n",
    "plt.show()"
   ]
  }
 ],
 "metadata": {
  "kernelspec": {
   "display_name": "Python 3 (ipykernel)",
   "language": "python",
   "name": "python3"
  },
  "language_info": {
   "codemirror_mode": {
    "name": "ipython",
    "version": 3
   },
   "file_extension": ".py",
   "mimetype": "text/x-python",
   "name": "python",
   "nbconvert_exporter": "python",
   "pygments_lexer": "ipython3",
   "version": "3.9.0"
  }
 },
 "nbformat": 4,
 "nbformat_minor": 5
}
