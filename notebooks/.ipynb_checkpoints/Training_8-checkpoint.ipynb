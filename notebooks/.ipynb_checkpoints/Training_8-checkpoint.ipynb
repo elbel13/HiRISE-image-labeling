{
 "cells": [
  {
   "cell_type": "code",
   "execution_count": 1,
   "id": "860132f0-0f31-4c10-8e1b-dff30719ccfc",
   "metadata": {},
   "outputs": [
    {
     "name": "stderr",
     "output_type": "stream",
     "text": [
      "2024-03-22 00:15:44.405437: I tensorflow/core/platform/cpu_feature_guard.cc:182] This TensorFlow binary is optimized to use available CPU instructions in performance-critical operations.\n",
      "To enable the following instructions: SSE4.1 SSE4.2 AVX, in other operations, rebuild TensorFlow with the appropriate compiler flags.\n"
     ]
    }
   ],
   "source": [
    "import matplotlib.pyplot as plt\n",
    "import numpy as np\n",
    "import tensorflow as tf\n",
    "\n",
    "#from tensorflow.data.Dataset import load\n",
    "from tensorflow import keras\n",
    "from tensorflow.keras import layers\n",
    "from tensorflow.keras.models import Sequential\n",
    "import keras_tuner as kt\n",
    "import pandas as pd\n",
    "\n",
    "import os\n",
    "from file_helpers import unpickle_from_file"
   ]
  },
  {
   "cell_type": "code",
   "execution_count": 2,
   "id": "3fe2e603-910f-4abb-8fe2-8119f9ab787d",
   "metadata": {},
   "outputs": [],
   "source": [
    "train_labels_sorted = unpickle_from_file('../data/processed_data/train_labels_sorted.bin')"
   ]
  },
  {
   "cell_type": "code",
   "execution_count": 3,
   "id": "36c0e809-3a47-4e7c-95f6-f944a1149806",
   "metadata": {},
   "outputs": [
    {
     "name": "stdout",
     "output_type": "stream",
     "text": [
      "Found 51957 files belonging to 8 classes.\n",
      "Using 44164 files for training.\n"
     ]
    },
    {
     "name": "stderr",
     "output_type": "stream",
     "text": [
      "2024-03-22 00:15:49.116701: I tensorflow/core/common_runtime/process_util.cc:146] Creating new thread pool with default inter op setting: 2. Tune using inter_op_parallelism_threads for best performance.\n"
     ]
    }
   ],
   "source": [
    "#Read training data\n",
    "batch_size = 75\n",
    "img_height = 227\n",
    "img_width = 227\n",
    "\n",
    "train_ds = tf.keras.utils.image_dataset_from_directory(\n",
    "  '../data/processed_data/training_images',\n",
    "  validation_split=0.15,\n",
    "  subset=\"training\",\n",
    "  seed=123,\n",
    "  image_size=(img_height, img_width),\n",
    "  batch_size=batch_size,\n",
    "labels = train_labels_sorted)"
   ]
  },
  {
   "cell_type": "code",
   "execution_count": 4,
   "id": "ab79ebde-5e41-4269-a6c2-9cc9ad0442c3",
   "metadata": {},
   "outputs": [
    {
     "name": "stdout",
     "output_type": "stream",
     "text": [
      "Found 51957 files belonging to 8 classes.\n",
      "Using 7793 files for validation.\n"
     ]
    }
   ],
   "source": [
    "#Read validation data\n",
    "\n",
    "val_ds = tf.keras.utils.image_dataset_from_directory(\n",
    "  '../data/processed_data/training_images',\n",
    "  validation_split=0.15,\n",
    "  subset=\"validation\",\n",
    "  seed=123,\n",
    "  image_size=(img_height, img_width),\n",
    "  batch_size=batch_size,\n",
    "labels = train_labels_sorted)"
   ]
  },
  {
   "cell_type": "code",
   "execution_count": 5,
   "id": "2c1ed2a6-d98a-4995-9e93-e4c6bf80903a",
   "metadata": {},
   "outputs": [],
   "source": [
    "#Try to keep things in memory for performance reasons\n",
    "AUTOTUNE = tf.data.AUTOTUNE\n",
    "\n",
    "train_ds = train_ds.cache().shuffle(1000).prefetch(buffer_size=AUTOTUNE)\n",
    "val_ds = val_ds.cache().prefetch(buffer_size=AUTOTUNE)"
   ]
  },
  {
   "cell_type": "code",
   "execution_count": 6,
   "id": "18374aaa-5783-48d7-a110-405a258d3ef6",
   "metadata": {},
   "outputs": [],
   "source": [
    "def model_builder(hp):\n",
    "    img_height = 227\n",
    "    img_width = 227\n",
    "\n",
    "    num_classes = 8\n",
    "\n",
    "    hp_depth_of_network = hp.Choice('depth_of_network', values=[3, 4, 5, 6])\n",
    "\n",
    "    model_layers = [\n",
    "      layers.Rescaling(1./255, input_shape=(img_height, img_width, 3)),\n",
    "      layers.Conv2D(16, 3, padding='same', activation='relu'),\n",
    "      layers.MaxPooling2D(),\n",
    "      layers.Conv2D(32, 3, padding='same', activation='relu'),\n",
    "      layers.MaxPooling2D(),\n",
    "      layers.Conv2D(64, 3, padding='same', activation='relu'),\n",
    "      layers.MaxPooling2D(),\n",
    "      layers.Dropout(0.2),\n",
    "      layers.Flatten()\n",
    "    ]\n",
    "    \n",
    "    dense_layers = []\n",
    "    for i in range(0, (3 + hp_depth_of_network)):\n",
    "        dense_layers.append(layers.Dense(256, activation='relu'))\n",
    "\n",
    "    model_layers = model_layers + dense_layers\n",
    "\n",
    "    model_layers.append(layers.Dense(num_classes))\n",
    "    \n",
    "    model = Sequential(model_layers)\n",
    "\n",
    "    model.compile(optimizer=keras.optimizers.Adam(learning_rate=0.01),\n",
    "              loss=tf.keras.losses.SparseCategoricalCrossentropy(from_logits=True),\n",
    "              metrics=['accuracy'])\n",
    "\n",
    "    return model"
   ]
  },
  {
   "cell_type": "code",
   "execution_count": 7,
   "id": "d217c71c-c9e6-461e-97ae-6f01f3e42b38",
   "metadata": {},
   "outputs": [],
   "source": [
    "tuner = kt.Hyperband(model_builder,\n",
    "                     objective='val_accuracy',\n",
    "                     max_epochs=2,\n",
    "                     factor=3,\n",
    "                     directory='my_dir',\n",
    "                     overwrite = True,#Don't use results cached in my_dir\n",
    "                     project_name='intro_to_kt')"
   ]
  },
  {
   "cell_type": "code",
   "execution_count": 8,
   "id": "a515d5d6-1963-4f48-b822-929435ee0589",
   "metadata": {},
   "outputs": [],
   "source": [
    "#We had some models with loss less than 1\n",
    "stop_early = tf.keras.callbacks.EarlyStopping(monitor = 'val_loss', patience = 1)"
   ]
  },
  {
   "cell_type": "code",
   "execution_count": 9,
   "id": "d6ead552-ef27-41bc-9298-8d5414bbd0d2",
   "metadata": {
    "scrolled": true
   },
   "outputs": [
    {
     "name": "stdout",
     "output_type": "stream",
     "text": [
      "Trial 2 Complete [01h 14m 40s]\n",
      "val_accuracy: 0.8181701302528381\n",
      "\n",
      "Best val_accuracy So Far: 0.8181701302528381\n",
      "Total elapsed time: 02h 28m 33s\n"
     ]
    }
   ],
   "source": [
    "#Original example calls for 50, but training time will be\n",
    "#very long for our model with 50. We'll do 10 max instead\n",
    "tuner.search(train_ds, validation_data = val_ds, epochs=10, callbacks=[stop_early])\n",
    "\n",
    "# Get the optimal hyperparameters\n",
    "best_hps=tuner.get_best_hyperparameters(num_trials=1)[0]"
   ]
  },
  {
   "cell_type": "code",
   "execution_count": 10,
   "id": "6677c11b-9ae5-4433-9b00-47a013f21240",
   "metadata": {},
   "outputs": [
    {
     "name": "stdout",
     "output_type": "stream",
     "text": [
      "Epoch 1/10\n",
      "589/589 [==============================] - 2288s 4s/step - loss: 3.8284 - accuracy: 0.8119 - val_loss: 0.7875 - val_accuracy: 0.8182\n",
      "Epoch 2/10\n",
      "589/589 [==============================] - 2290s 4s/step - loss: 0.7981 - accuracy: 0.8133 - val_loss: 0.7845 - val_accuracy: 0.8182\n",
      "Epoch 3/10\n",
      "589/589 [==============================] - 2263s 4s/step - loss: 0.7972 - accuracy: 0.8133 - val_loss: 0.7864 - val_accuracy: 0.8182\n",
      "Epoch 4/10\n",
      "589/589 [==============================] - 2292s 4s/step - loss: 0.7971 - accuracy: 0.8133 - val_loss: 0.7841 - val_accuracy: 0.8182\n",
      "Epoch 5/10\n",
      "589/589 [==============================] - 2274s 4s/step - loss: 0.7967 - accuracy: 0.8133 - val_loss: 0.7855 - val_accuracy: 0.8182\n",
      "Epoch 6/10\n",
      "589/589 [==============================] - 2274s 4s/step - loss: 0.7966 - accuracy: 0.8133 - val_loss: 0.7841 - val_accuracy: 0.8182\n",
      "Epoch 7/10\n",
      "589/589 [==============================] - 2314s 4s/step - loss: 0.7969 - accuracy: 0.8133 - val_loss: 0.7836 - val_accuracy: 0.8182\n",
      "Epoch 8/10\n",
      "589/589 [==============================] - 2322s 4s/step - loss: 0.7967 - accuracy: 0.8133 - val_loss: 0.7857 - val_accuracy: 0.8182\n",
      "Epoch 9/10\n",
      "589/589 [==============================] - 2306s 4s/step - loss: 0.7963 - accuracy: 0.8133 - val_loss: 0.7883 - val_accuracy: 0.8182\n",
      "Epoch 10/10\n",
      "589/589 [==============================] - 2289s 4s/step - loss: 0.7962 - accuracy: 0.8133 - val_loss: 0.7847 - val_accuracy: 0.8182\n",
      "Best epoch: 1\n"
     ]
    }
   ],
   "source": [
    "# Build the model with the optimal hyperparameters and train it on the data for 10 epochs\n",
    "model = tuner.hypermodel.build(best_hps)\n",
    "history = model.fit(train_ds, validation_data = val_ds, epochs=10)\n",
    "\n",
    "val_acc_per_epoch = history.history['val_accuracy']\n",
    "best_epoch = val_acc_per_epoch.index(max(val_acc_per_epoch)) + 1\n",
    "print('Best epoch: %d' % (best_epoch,))"
   ]
  },
  {
   "cell_type": "code",
   "execution_count": 11,
   "id": "7a6368a9-1699-4da6-9742-3f3f27deb34d",
   "metadata": {},
   "outputs": [
    {
     "name": "stdout",
     "output_type": "stream",
     "text": [
      "589/589 [==============================] - 2325s 4s/step - loss: 0.9995 - accuracy: 0.8120 - val_loss: 0.7944 - val_accuracy: 0.8182\n"
     ]
    }
   ],
   "source": [
    "hypermodel = tuner.hypermodel.build(best_hps)\n",
    "\n",
    "# Retrain the model\n",
    "history = hypermodel.fit(train_ds, validation_data = val_ds, epochs = best_epoch)"
   ]
  },
  {
   "cell_type": "code",
   "execution_count": 12,
   "id": "508110b1-201f-406d-8c68-8588bb662225",
   "metadata": {},
   "outputs": [
    {
     "data": {
      "text/plain": [
       "4"
      ]
     },
     "execution_count": 12,
     "metadata": {},
     "output_type": "execute_result"
    }
   ],
   "source": [
    "best_hps.get('depth_of_network')"
   ]
  }
 ],
 "metadata": {
  "kernelspec": {
   "display_name": "Python 3 (ipykernel)",
   "language": "python",
   "name": "python3"
  },
  "language_info": {
   "codemirror_mode": {
    "name": "ipython",
    "version": 3
   },
   "file_extension": ".py",
   "mimetype": "text/x-python",
   "name": "python",
   "nbconvert_exporter": "python",
   "pygments_lexer": "ipython3",
   "version": "3.11.5"
  }
 },
 "nbformat": 4,
 "nbformat_minor": 5
}
