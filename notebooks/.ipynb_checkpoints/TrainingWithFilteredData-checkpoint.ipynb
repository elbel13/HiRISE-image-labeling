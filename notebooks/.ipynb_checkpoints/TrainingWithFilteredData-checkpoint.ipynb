{
 "cells": [
  {
   "cell_type": "code",
   "execution_count": 1,
   "id": "55111eb3-5af9-4631-b7be-180ee2a1bea3",
   "metadata": {},
   "outputs": [
    {
     "name": "stderr",
     "output_type": "stream",
     "text": [
      "2024-03-25 00:49:01.605617: I tensorflow/core/platform/cpu_feature_guard.cc:182] This TensorFlow binary is optimized to use available CPU instructions in performance-critical operations.\n",
      "To enable the following instructions: SSE4.1 SSE4.2 AVX, in other operations, rebuild TensorFlow with the appropriate compiler flags.\n"
     ]
    }
   ],
   "source": [
    "import matplotlib.pyplot as plt\n",
    "import numpy as np\n",
    "import tensorflow as tf\n",
    "\n",
    "#from tensorflow.data.Dataset import load\n",
    "from tensorflow import keras\n",
    "from tensorflow.keras import layers\n",
    "from tensorflow.keras.models import Sequential\n",
    "import pandas as pd\n",
    "    \n",
    "from skimage.io import imread\n",
    "\n",
    "import os\n",
    "from file_helpers import unpickle_from_file, print_dir, copy_to_directory"
   ]
  },
  {
   "cell_type": "code",
   "execution_count": 2,
   "id": "ae4b2285-24ef-4197-92ac-eb9ca7f0d516",
   "metadata": {},
   "outputs": [
    {
     "data": {
      "text/html": [
       "<div>\n",
       "<style scoped>\n",
       "    .dataframe tbody tr th:only-of-type {\n",
       "        vertical-align: middle;\n",
       "    }\n",
       "\n",
       "    .dataframe tbody tr th {\n",
       "        vertical-align: top;\n",
       "    }\n",
       "\n",
       "    .dataframe thead th {\n",
       "        text-align: right;\n",
       "    }\n",
       "</style>\n",
       "<table border=\"1\" class=\"dataframe\">\n",
       "  <thead>\n",
       "    <tr style=\"text-align: right;\">\n",
       "      <th></th>\n",
       "      <th>file_name</th>\n",
       "      <th>image</th>\n",
       "      <th>label</th>\n",
       "    </tr>\n",
       "  </thead>\n",
       "  <tbody>\n",
       "    <tr>\n",
       "      <th>0</th>\n",
       "      <td>ESP_012810_0925_RED-0115-brt.jpg</td>\n",
       "      <td>[[167, 167, 167, 168, 168, 168, 166, 164, 162,...</td>\n",
       "      <td>6</td>\n",
       "    </tr>\n",
       "    <tr>\n",
       "      <th>1</th>\n",
       "      <td>ESP_024646_2570_RED-0016-r270.jpg</td>\n",
       "      <td>[[183, 180, 175, 167, 165, 164, 161, 163, 165,...</td>\n",
       "      <td>4</td>\n",
       "    </tr>\n",
       "    <tr>\n",
       "      <th>2</th>\n",
       "      <td>PSP_010087_1555_RED-0181-r90.jpg</td>\n",
       "      <td>[[110, 108, 106, 106, 107, 105, 115, 115, 100,...</td>\n",
       "      <td>1</td>\n",
       "    </tr>\n",
       "    <tr>\n",
       "      <th>3</th>\n",
       "      <td>ESP_025151_1570_RED-0151-r90.jpg</td>\n",
       "      <td>[[47, 45, 44, 45, 46, 46, 45, 44, 42, 44, 44, ...</td>\n",
       "      <td>0</td>\n",
       "    </tr>\n",
       "    <tr>\n",
       "      <th>4</th>\n",
       "      <td>ESP_012494_2050_RED-0044-r90.jpg</td>\n",
       "      <td>[[114, 111, 115, 120, 120, 120, 120, 117, 118,...</td>\n",
       "      <td>0</td>\n",
       "    </tr>\n",
       "  </tbody>\n",
       "</table>\n",
       "</div>"
      ],
      "text/plain": [
       "                           file_name   \n",
       "0   ESP_012810_0925_RED-0115-brt.jpg  \\\n",
       "1  ESP_024646_2570_RED-0016-r270.jpg   \n",
       "2   PSP_010087_1555_RED-0181-r90.jpg   \n",
       "3   ESP_025151_1570_RED-0151-r90.jpg   \n",
       "4   ESP_012494_2050_RED-0044-r90.jpg   \n",
       "\n",
       "                                               image  label  \n",
       "0  [[167, 167, 167, 168, 168, 168, 166, 164, 162,...      6  \n",
       "1  [[183, 180, 175, 167, 165, 164, 161, 163, 165,...      4  \n",
       "2  [[110, 108, 106, 106, 107, 105, 115, 115, 100,...      1  \n",
       "3  [[47, 45, 44, 45, 46, 46, 45, 44, 42, 44, 44, ...      0  \n",
       "4  [[114, 111, 115, 120, 120, 120, 120, 117, 118,...      0  "
      ]
     },
     "execution_count": 2,
     "metadata": {},
     "output_type": "execute_result"
    }
   ],
   "source": [
    "df_labeled_images = unpickle_from_file('../data/processed_data/labeled_images.bin')\n",
    "df_labeled_images.head()"
   ]
  },
  {
   "cell_type": "code",
   "execution_count": 3,
   "id": "43865387-ed49-4a59-9f00-94c574a23f18",
   "metadata": {},
   "outputs": [
    {
     "data": {
      "text/html": [
       "<div>\n",
       "<style scoped>\n",
       "    .dataframe tbody tr th:only-of-type {\n",
       "        vertical-align: middle;\n",
       "    }\n",
       "\n",
       "    .dataframe tbody tr th {\n",
       "        vertical-align: top;\n",
       "    }\n",
       "\n",
       "    .dataframe thead th {\n",
       "        text-align: right;\n",
       "    }\n",
       "</style>\n",
       "<table border=\"1\" class=\"dataframe\">\n",
       "  <thead>\n",
       "    <tr style=\"text-align: right;\">\n",
       "      <th></th>\n",
       "      <th>file_name</th>\n",
       "      <th>image</th>\n",
       "      <th>label</th>\n",
       "    </tr>\n",
       "  </thead>\n",
       "  <tbody>\n",
       "    <tr>\n",
       "      <th>3</th>\n",
       "      <td>ESP_025151_1570_RED-0151-r90.jpg</td>\n",
       "      <td>[[47, 45, 44, 45, 46, 46, 45, 44, 42, 44, 44, ...</td>\n",
       "      <td>0</td>\n",
       "    </tr>\n",
       "    <tr>\n",
       "      <th>4</th>\n",
       "      <td>ESP_012494_2050_RED-0044-r90.jpg</td>\n",
       "      <td>[[114, 111, 115, 120, 120, 120, 120, 117, 118,...</td>\n",
       "      <td>0</td>\n",
       "    </tr>\n",
       "    <tr>\n",
       "      <th>5</th>\n",
       "      <td>ESP_018321_2565_RED-0069-r270.jpg</td>\n",
       "      <td>[[58, 53, 53, 60, 59, 53, 55, 58, 56, 55, 54, ...</td>\n",
       "      <td>0</td>\n",
       "    </tr>\n",
       "    <tr>\n",
       "      <th>8</th>\n",
       "      <td>PSP_010087_1555_RED-0306.jpg</td>\n",
       "      <td>[[27, 21, 17, 17, 16, 13, 14, 17, 20, 19, 17, ...</td>\n",
       "      <td>0</td>\n",
       "    </tr>\n",
       "    <tr>\n",
       "      <th>9</th>\n",
       "      <td>ESP_011881_1585_RED-0041-brt.jpg</td>\n",
       "      <td>[[109, 110, 110, 110, 110, 110, 109, 109, 108,...</td>\n",
       "      <td>0</td>\n",
       "    </tr>\n",
       "  </tbody>\n",
       "</table>\n",
       "</div>"
      ],
      "text/plain": [
       "                           file_name   \n",
       "3   ESP_025151_1570_RED-0151-r90.jpg  \\\n",
       "4   ESP_012494_2050_RED-0044-r90.jpg   \n",
       "5  ESP_018321_2565_RED-0069-r270.jpg   \n",
       "8       PSP_010087_1555_RED-0306.jpg   \n",
       "9   ESP_011881_1585_RED-0041-brt.jpg   \n",
       "\n",
       "                                               image  label  \n",
       "3  [[47, 45, 44, 45, 46, 46, 45, 44, 42, 44, 44, ...      0  \n",
       "4  [[114, 111, 115, 120, 120, 120, 120, 117, 118,...      0  \n",
       "5  [[58, 53, 53, 60, 59, 53, 55, 58, 56, 55, 54, ...      0  \n",
       "8  [[27, 21, 17, 17, 16, 13, 14, 17, 20, 19, 17, ...      0  \n",
       "9  [[109, 110, 110, 110, 110, 110, 109, 109, 108,...      0  "
      ]
     },
     "execution_count": 3,
     "metadata": {},
     "output_type": "execute_result"
    }
   ],
   "source": [
    "df_other_labeled_images = df_labeled_images.query('label == 0')\n",
    "df_other_labeled_images.head()"
   ]
  },
  {
   "cell_type": "code",
   "execution_count": 4,
   "id": "8b2bf981-834d-4fa4-9803-e997e7245186",
   "metadata": {},
   "outputs": [
    {
     "name": "stdout",
     "output_type": "stream",
     "text": [
      "Will loose  81.17695967481177 % of the data, but  12225 images will remain\n"
     ]
    }
   ],
   "source": [
    "total_number_of_images = df_labeled_images.shape[0]\n",
    "number_of_remaining_images = df_labeled_images.shape[0] - df_other_labeled_images.shape[0]\n",
    "percentage_of_data_loss = 100 * (total_number_of_images - number_of_remaining_images)/total_number_of_images\n",
    "print('Will loose ', percentage_of_data_loss, '% of the data, but ', number_of_remaining_images, 'images will remain')"
   ]
  },
  {
   "cell_type": "code",
   "execution_count": 5,
   "id": "229934d3-b66d-4a95-83c2-a0be6903ac88",
   "metadata": {},
   "outputs": [
    {
     "data": {
      "text/html": [
       "<div>\n",
       "<style scoped>\n",
       "    .dataframe tbody tr th:only-of-type {\n",
       "        vertical-align: middle;\n",
       "    }\n",
       "\n",
       "    .dataframe tbody tr th {\n",
       "        vertical-align: top;\n",
       "    }\n",
       "\n",
       "    .dataframe thead th {\n",
       "        text-align: right;\n",
       "    }\n",
       "</style>\n",
       "<table border=\"1\" class=\"dataframe\">\n",
       "  <thead>\n",
       "    <tr style=\"text-align: right;\">\n",
       "      <th></th>\n",
       "      <th>file_name</th>\n",
       "      <th>image</th>\n",
       "      <th>label</th>\n",
       "    </tr>\n",
       "  </thead>\n",
       "  <tbody>\n",
       "    <tr>\n",
       "      <th>0</th>\n",
       "      <td>ESP_012810_0925_RED-0115-brt.jpg</td>\n",
       "      <td>[[167, 167, 167, 168, 168, 168, 166, 164, 162,...</td>\n",
       "      <td>6</td>\n",
       "    </tr>\n",
       "    <tr>\n",
       "      <th>1</th>\n",
       "      <td>ESP_024646_2570_RED-0016-r270.jpg</td>\n",
       "      <td>[[183, 180, 175, 167, 165, 164, 161, 163, 165,...</td>\n",
       "      <td>4</td>\n",
       "    </tr>\n",
       "    <tr>\n",
       "      <th>2</th>\n",
       "      <td>PSP_010087_1555_RED-0181-r90.jpg</td>\n",
       "      <td>[[110, 108, 106, 106, 107, 105, 115, 115, 100,...</td>\n",
       "      <td>1</td>\n",
       "    </tr>\n",
       "    <tr>\n",
       "      <th>6</th>\n",
       "      <td>ESP_016631_2535_RED-0004-r180.jpg</td>\n",
       "      <td>[[120, 123, 126, 133, 138, 141, 144, 141, 135,...</td>\n",
       "      <td>4</td>\n",
       "    </tr>\n",
       "    <tr>\n",
       "      <th>7</th>\n",
       "      <td>ESP_012637_0935_RED-0236.jpg</td>\n",
       "      <td>[[126, 124, 123, 125, 129, 131, 131, 131, 130,...</td>\n",
       "      <td>6</td>\n",
       "    </tr>\n",
       "  </tbody>\n",
       "</table>\n",
       "</div>"
      ],
      "text/plain": [
       "                           file_name   \n",
       "0   ESP_012810_0925_RED-0115-brt.jpg  \\\n",
       "1  ESP_024646_2570_RED-0016-r270.jpg   \n",
       "2   PSP_010087_1555_RED-0181-r90.jpg   \n",
       "6  ESP_016631_2535_RED-0004-r180.jpg   \n",
       "7       ESP_012637_0935_RED-0236.jpg   \n",
       "\n",
       "                                               image  label  \n",
       "0  [[167, 167, 167, 168, 168, 168, 166, 164, 162,...      6  \n",
       "1  [[183, 180, 175, 167, 165, 164, 161, 163, 165,...      4  \n",
       "2  [[110, 108, 106, 106, 107, 105, 115, 115, 100,...      1  \n",
       "6  [[120, 123, 126, 133, 138, 141, 144, 141, 135,...      4  \n",
       "7  [[126, 124, 123, 125, 129, 131, 131, 131, 130,...      6  "
      ]
     },
     "execution_count": 5,
     "metadata": {},
     "output_type": "execute_result"
    }
   ],
   "source": [
    "df_filtered_images = df_labeled_images.drop(df_other_labeled_images.index)\n",
    "df_filtered_images.head()"
   ]
  },
  {
   "cell_type": "code",
   "execution_count": 6,
   "id": "bc573a74-0221-4b4e-97bc-d9197afb5666",
   "metadata": {},
   "outputs": [],
   "source": [
    "from sklearn.model_selection import train_test_split\n",
    "\n",
    "#We want 80% of the data for training\n",
    "X_train, X_test, y_train, y_test  = train_test_split(df_filtered_images['file_name'], df_filtered_images['label'], train_size = 0.8, random_state = 13)"
   ]
  },
  {
   "cell_type": "code",
   "execution_count": 7,
   "id": "fbdc17a6-a977-48c3-aa58-1549c75ad3f6",
   "metadata": {},
   "outputs": [
    {
     "name": "stdout",
     "output_type": "stream",
     "text": [
      "X_train size:  9780 \tExpected size:  9780.0\n",
      "y_train size:  9780 \tExpected size:  9780.0\n",
      "X_test size:  2445 \tExpected size:  2445.0\n",
      "y_test size:  2445 \tExpected size:  2445.0\n"
     ]
    }
   ],
   "source": [
    "#Let's make sure we got the right sample sizes for each group\n",
    "full_data_size = df_filtered_images.shape[0]\n",
    "\n",
    "#Train data set\n",
    "print('X_train size: ', X_train.size, '\\tExpected size: ', full_data_size * 0.8)\n",
    "print('y_train size: ', y_train.size, '\\tExpected size: ', full_data_size * 0.8)\n",
    "\n",
    "#Test validation data set\n",
    "print('X_test size: ', X_test.size, '\\tExpected size: ', full_data_size * 0.2)\n",
    "print('y_test size: ', y_test.size, '\\tExpected size: ', full_data_size * 0.2)"
   ]
  },
  {
   "cell_type": "code",
   "execution_count": 8,
   "id": "31e5e0c1-9404-4473-a1f3-1feccbe364d4",
   "metadata": {},
   "outputs": [
    {
     "name": "stdout",
     "output_type": "stream",
     "text": [
      "Label distribution of  Full Data Set :\n",
      "label\n",
      "0    0.811770\n",
      "1    0.077355\n",
      "2    0.011794\n",
      "3    0.024251\n",
      "4    0.025467\n",
      "5    0.007329\n",
      "6    0.028238\n",
      "7    0.013796\n",
      "Name: label, dtype: float64\n",
      "\n",
      "Label distribution of  Training Set :\n",
      "label\n",
      "1    0.410020\n",
      "2    0.061554\n",
      "3    0.127301\n",
      "4    0.138344\n",
      "5    0.039877\n",
      "6    0.148875\n",
      "7    0.074029\n",
      "Name: label, dtype: float64\n",
      "\n",
      "Label distribution of  Test Set :\n",
      "label\n",
      "1    0.414724\n",
      "2    0.067076\n",
      "3    0.134969\n",
      "4    0.123108\n",
      "5    0.035174\n",
      "6    0.154601\n",
      "7    0.070348\n",
      "Name: label, dtype: float64\n",
      "\n"
     ]
    }
   ],
   "source": [
    "#Check data distribution\n",
    "\n",
    "def print_group_distribution (labels, group_name):\n",
    "    print('Label distribution of ', group_name, ':')\n",
    "    print(labels.groupby(labels).count() / labels.shape[0])\n",
    "    #Add blank line at the end\n",
    "    print()\n",
    "\n",
    "group_labels = [(df_labeled_images['label'], 'Full Data Set'), (y_train, 'Training Set'), (y_test, 'Test Set')]\n",
    "for label_set, data_set_name in group_labels:\n",
    "    print_group_distribution(label_set, data_set_name)"
   ]
  },
  {
   "cell_type": "code",
   "execution_count": 9,
   "id": "90a0e1ef-9567-444c-833a-5c5d49a6ed80",
   "metadata": {},
   "outputs": [],
   "source": [
    "os.makedirs('../data/processed_data/filtered', exist_ok = True)\n",
    "os.makedirs('../data/processed_data/filtered/training_images', exist_ok = True)\n",
    "os.makedirs('../data/processed_data/filtered/testing_images', exist_ok = True)"
   ]
  },
  {
   "cell_type": "code",
   "execution_count": 10,
   "id": "5ea8f9a3-e49e-4140-af90-220668855231",
   "metadata": {},
   "outputs": [
    {
     "name": "stdout",
     "output_type": "stream",
     "text": [
      "        Name     Full Path\n",
      "ESP_012810_0925_RED-0115-brt.jpg  ../data/processed_data/filtered/training_images/ESP_012810_0925_RED-0115-brt.jpg\n",
      "ESP_024646_2570_RED-0016-r270.jpg  ../data/processed_data/filtered/training_images/ESP_024646_2570_RED-0016-r270.jpg\n",
      "PSP_010087_1555_RED-0181-r90.jpg  ../data/processed_data/filtered/training_images/PSP_010087_1555_RED-0181-r90.jpg\n",
      "ESP_012637_0935_RED-0236.jpg  ../data/processed_data/filtered/training_images/ESP_012637_0935_RED-0236.jpg\n",
      "ESP_015897_2655_RED-0060-fv.jpg  ../data/processed_data/filtered/training_images/ESP_015897_2655_RED-0060-fv.jpg\n",
      "ESP_016607_2080_RED-0028-r180.jpg  ../data/processed_data/filtered/training_images/ESP_016607_2080_RED-0028-r180.jpg\n",
      "ESP_018321_2565_RED-0053.jpg  ../data/processed_data/filtered/training_images/ESP_018321_2565_RED-0053.jpg\n",
      "ESP_024646_2570_RED-0020-r270.jpg  ../data/processed_data/filtered/training_images/ESP_024646_2570_RED-0020-r270.jpg\n",
      "ESP_011881_1585_RED-0068-r180.jpg  ../data/processed_data/filtered/training_images/ESP_011881_1585_RED-0068-r180.jpg\n",
      "ESP_016631_2535_RED-0018-fh.jpg  ../data/processed_data/filtered/training_images/ESP_016631_2535_RED-0018-fh.jpg\n",
      "ESP_011881_1585_RED-0068-fh.jpg  ../data/processed_data/filtered/training_images/ESP_011881_1585_RED-0068-fh.jpg\n",
      "ESP_016607_2080_RED-0141-fv.jpg  ../data/processed_data/filtered/training_images/ESP_016607_2080_RED-0141-fv.jpg\n",
      "ESP_029782_2075_RED-0699-fv.jpg  ../data/processed_data/filtered/training_images/ESP_029782_2075_RED-0699-fv.jpg\n",
      "ESP_016631_2535_RED-0103-fv.jpg  ../data/processed_data/filtered/training_images/ESP_016631_2535_RED-0103-fv.jpg\n",
      "ESP_020606_1445_RED-0143-r270.jpg  ../data/processed_data/filtered/training_images/ESP_020606_1445_RED-0143-r270.jpg\n",
      "Showing 15 of 9780 items\n"
     ]
    }
   ],
   "source": [
    "X_train.apply(copy_to_directory, args = ('../data/hirise-map-proj-v3_2/map-proj-v3_2', '../data/processed_data/filtered/training_images',));\n",
    "print_dir('../data/processed_data/filtered/training_images')"
   ]
  },
  {
   "cell_type": "code",
   "execution_count": 11,
   "id": "9b262c8e-c870-4997-9c9b-540b76df6778",
   "metadata": {},
   "outputs": [
    {
     "name": "stdout",
     "output_type": "stream",
     "text": [
      "        Name     Full Path\n",
      "ESP_016631_2535_RED-0004-r180.jpg  ../data/processed_data/filtered/testing_images/ESP_016631_2535_RED-0004-r180.jpg\n",
      "ESP_015897_2655_RED-0049-r270.jpg  ../data/processed_data/filtered/testing_images/ESP_015897_2655_RED-0049-r270.jpg\n",
      "ESP_015962_1695_RED-0016-r90.jpg  ../data/processed_data/filtered/testing_images/ESP_015962_1695_RED-0016-r90.jpg\n",
      "ESP_016683_2535_RED-0047-r180.jpg  ../data/processed_data/filtered/testing_images/ESP_016683_2535_RED-0047-r180.jpg\n",
      "ESP_020606_1445_RED-0644-fh.jpg  ../data/processed_data/filtered/testing_images/ESP_020606_1445_RED-0644-fh.jpg\n",
      "ESP_013141_2105_RED-0072.jpg  ../data/processed_data/filtered/testing_images/ESP_013141_2105_RED-0072.jpg\n",
      "ESP_012971_2015_RED-0436-r270.jpg  ../data/processed_data/filtered/testing_images/ESP_012971_2015_RED-0436-r270.jpg\n",
      "PSP_003703_2035_RED-0075.jpg  ../data/processed_data/filtered/testing_images/PSP_003703_2035_RED-0075.jpg\n",
      "ESP_023020_1410_RED-0176.jpg  ../data/processed_data/filtered/testing_images/ESP_023020_1410_RED-0176.jpg\n",
      "PSP_005728_0935_RED-0007-fv.jpg  ../data/processed_data/filtered/testing_images/PSP_005728_0935_RED-0007-fv.jpg\n",
      "ESP_012810_0925_RED-0116.jpg  ../data/processed_data/filtered/testing_images/ESP_012810_0925_RED-0116.jpg\n",
      "ESP_026472_1410_RED-0270-fv.jpg  ../data/processed_data/filtered/testing_images/ESP_026472_1410_RED-0270-fv.jpg\n",
      "ESP_012971_2015_RED-0309-r180.jpg  ../data/processed_data/filtered/testing_images/ESP_012971_2015_RED-0309-r180.jpg\n",
      "PSP_002455_1320_RED-0069-r90.jpg  ../data/processed_data/filtered/testing_images/PSP_002455_1320_RED-0069-r90.jpg\n",
      "ESP_026472_1410_RED-0130-brt.jpg  ../data/processed_data/filtered/testing_images/ESP_026472_1410_RED-0130-brt.jpg\n",
      "Showing 15 of 2445 items\n"
     ]
    }
   ],
   "source": [
    "X_test.apply(copy_to_directory, args = ('../data/hirise-map-proj-v3_2/map-proj-v3_2', '../data/processed_data/filtered/testing_images',));\n",
    "print_dir('../data/processed_data/filtered/testing_images')"
   ]
  },
  {
   "cell_type": "code",
   "execution_count": 12,
   "id": "4aae8a02-60c1-46f2-a2d9-9e068a783287",
   "metadata": {},
   "outputs": [
    {
     "data": {
      "text/plain": [
       "9780"
      ]
     },
     "execution_count": 12,
     "metadata": {},
     "output_type": "execute_result"
    }
   ],
   "source": [
    "train_labels_sorted = df_filtered_images.merge(X_train, how = 'inner', left_index = True, right_index = True).sort_values('file_name_x')['label']\n",
    "train_labels_sorted = train_labels_sorted.to_list()\n",
    "len(train_labels_sorted)"
   ]
  },
  {
   "cell_type": "code",
   "execution_count": 13,
   "id": "4078b0e9-dcbb-43bd-9778-bbf8ccb12cf4",
   "metadata": {},
   "outputs": [
    {
     "data": {
      "text/plain": [
       "2445"
      ]
     },
     "execution_count": 13,
     "metadata": {},
     "output_type": "execute_result"
    }
   ],
   "source": [
    "test_labels_sorted = df_filtered_images.merge(X_test, how = 'inner', left_index = True, right_index = True).sort_values('file_name_x')['label']\n",
    "test_labels_sorted = test_labels_sorted.to_list()\n",
    "len(test_labels_sorted)"
   ]
  },
  {
   "cell_type": "code",
   "execution_count": 14,
   "id": "838cb871-1314-4936-bba9-d72b9a81fc23",
   "metadata": {},
   "outputs": [
    {
     "name": "stdout",
     "output_type": "stream",
     "text": [
      "Found 9780 files belonging to 7 classes.\n",
      "Using 8313 files for training.\n"
     ]
    },
    {
     "name": "stderr",
     "output_type": "stream",
     "text": [
      "2024-03-25 00:49:14.555736: I tensorflow/core/common_runtime/process_util.cc:146] Creating new thread pool with default inter op setting: 2. Tune using inter_op_parallelism_threads for best performance.\n"
     ]
    }
   ],
   "source": [
    "#Read training data\n",
    "batch_size = 75\n",
    "img_height = 227\n",
    "img_width = 227\n",
    "\n",
    "train_ds = tf.keras.utils.image_dataset_from_directory(\n",
    "  '../data/processed_data/filtered/training_images',\n",
    "  validation_split=0.15,\n",
    "  subset=\"training\",\n",
    "  seed=123,\n",
    "  image_size=(img_height, img_width),\n",
    "  batch_size=batch_size,\n",
    "labels = train_labels_sorted)"
   ]
  },
  {
   "cell_type": "code",
   "execution_count": 15,
   "id": "2b6773a4-0185-4ae1-af5e-4d35ff9ed9ed",
   "metadata": {},
   "outputs": [
    {
     "name": "stdout",
     "output_type": "stream",
     "text": [
      "Found 9780 files belonging to 7 classes.\n",
      "Using 1467 files for validation.\n"
     ]
    }
   ],
   "source": [
    "#Read validation data\n",
    "\n",
    "val_ds = tf.keras.utils.image_dataset_from_directory(\n",
    "  '../data/processed_data/filtered/training_images',\n",
    "  validation_split=0.15,\n",
    "  subset=\"validation\",\n",
    "  seed=123,\n",
    "  image_size=(img_height, img_width),\n",
    "  batch_size=batch_size,\n",
    "labels = train_labels_sorted)"
   ]
  },
  {
   "cell_type": "code",
   "execution_count": 16,
   "id": "9bdc479f-d982-4c58-84cf-98988162f7d6",
   "metadata": {},
   "outputs": [],
   "source": [
    "#Try to keep things in memory for performance reasons\n",
    "AUTOTUNE = tf.data.AUTOTUNE\n",
    "\n",
    "train_ds = train_ds.cache().shuffle(1000).prefetch(buffer_size=AUTOTUNE)\n",
    "val_ds = val_ds.cache().prefetch(buffer_size=AUTOTUNE)"
   ]
  },
  {
   "cell_type": "code",
   "execution_count": 17,
   "id": "0be8b27a-f274-4446-b7ec-47cb072b5dba",
   "metadata": {},
   "outputs": [],
   "source": [
    "#Import final model\n",
    "model = keras.models.load_model('../model.keras')"
   ]
  },
  {
   "cell_type": "code",
   "execution_count": 18,
   "id": "782d7dd2-72cf-41e9-b691-363c4096f856",
   "metadata": {},
   "outputs": [
    {
     "name": "stdout",
     "output_type": "stream",
     "text": [
      "Epoch 1/10\n"
     ]
    },
    {
     "name": "stderr",
     "output_type": "stream",
     "text": [
      "2024-03-25 00:49:16.591919: I tensorflow/core/common_runtime/executor.cc:1197] [/device:CPU:0] (DEBUG INFO) Executor start aborting (this does not indicate an error and you can ignore this message): INVALID_ARGUMENT: You must feed a value for placeholder tensor 'Placeholder/_4' with dtype int32 and shape [8313]\n",
      "\t [[{{node Placeholder/_4}}]]\n",
      "2024-03-25 00:49:16.592525: I tensorflow/core/common_runtime/executor.cc:1197] [/device:CPU:0] (DEBUG INFO) Executor start aborting (this does not indicate an error and you can ignore this message): INVALID_ARGUMENT: You must feed a value for placeholder tensor 'Placeholder/_0' with dtype string and shape [8313]\n",
      "\t [[{{node Placeholder/_0}}]]\n"
     ]
    },
    {
     "name": "stdout",
     "output_type": "stream",
     "text": [
      "111/111 [==============================] - ETA: 0s - loss: 1.7935 - accuracy: 0.3701"
     ]
    },
    {
     "name": "stderr",
     "output_type": "stream",
     "text": [
      "2024-03-25 00:56:24.934244: I tensorflow/core/common_runtime/executor.cc:1197] [/device:CPU:0] (DEBUG INFO) Executor start aborting (this does not indicate an error and you can ignore this message): INVALID_ARGUMENT: You must feed a value for placeholder tensor 'Placeholder/_0' with dtype string and shape [1467]\n",
      "\t [[{{node Placeholder/_0}}]]\n",
      "2024-03-25 00:56:24.936075: I tensorflow/core/common_runtime/executor.cc:1197] [/device:CPU:0] (DEBUG INFO) Executor start aborting (this does not indicate an error and you can ignore this message): INVALID_ARGUMENT: You must feed a value for placeholder tensor 'Placeholder/_0' with dtype string and shape [1467]\n",
      "\t [[{{node Placeholder/_0}}]]\n"
     ]
    },
    {
     "name": "stdout",
     "output_type": "stream",
     "text": [
      "111/111 [==============================] - 436s 4s/step - loss: 1.7935 - accuracy: 0.3701 - val_loss: 1.6797 - val_accuracy: 0.4213\n",
      "Epoch 2/10\n",
      "111/111 [==============================] - 432s 4s/step - loss: 1.6835 - accuracy: 0.4120 - val_loss: 1.6630 - val_accuracy: 0.4213\n",
      "Epoch 3/10\n",
      "111/111 [==============================] - 411s 4s/step - loss: 1.6790 - accuracy: 0.4120 - val_loss: 1.6644 - val_accuracy: 0.4213\n",
      "Epoch 4/10\n",
      "111/111 [==============================] - 402s 4s/step - loss: 1.6756 - accuracy: 0.4125 - val_loss: 1.6716 - val_accuracy: 0.4138\n",
      "Epoch 5/10\n",
      "111/111 [==============================] - 414s 4s/step - loss: 1.6759 - accuracy: 0.4130 - val_loss: 1.6681 - val_accuracy: 0.4110\n",
      "Epoch 6/10\n",
      "111/111 [==============================] - 409s 4s/step - loss: 1.6738 - accuracy: 0.4126 - val_loss: 1.6704 - val_accuracy: 0.4158\n",
      "Epoch 7/10\n",
      "111/111 [==============================] - 416s 4s/step - loss: 1.6751 - accuracy: 0.4137 - val_loss: 1.6699 - val_accuracy: 0.4110\n",
      "Epoch 8/10\n",
      "111/111 [==============================] - 391s 4s/step - loss: 1.6741 - accuracy: 0.4133 - val_loss: 1.6687 - val_accuracy: 0.4172\n",
      "Epoch 9/10\n",
      "111/111 [==============================] - 412s 4s/step - loss: 1.6739 - accuracy: 0.4138 - val_loss: 1.6757 - val_accuracy: 0.4110\n",
      "Epoch 10/10\n",
      "111/111 [==============================] - 410s 4s/step - loss: 1.6731 - accuracy: 0.4143 - val_loss: 1.6590 - val_accuracy: 0.4206\n"
     ]
    }
   ],
   "source": [
    "epochs=10\n",
    "\n",
    "#Silence debug messages for cleaner output\n",
    "os.environ['TF_CPP_MIN_LOG_LEVEL'] = '2'\n",
    "\n",
    "history = model.fit(\n",
    "  train_ds,\n",
    "  validation_data = val_ds,\n",
    "  epochs = epochs\n",
    ")"
   ]
  },
  {
   "cell_type": "code",
   "execution_count": 19,
   "id": "a6a0f605-4252-48db-b9b9-777fe88c339d",
   "metadata": {},
   "outputs": [
    {
     "data": {
      "image/png": "[encoded data removed]",
      "text/plain": [
       "<Figure size 800x800 with 2 Axes>"
      ]
     },
     "metadata": {},
     "output_type": "display_data"
    }
   ],
   "source": [
    "acc = history.history['accuracy']\n",
    "val_acc = history.history['val_accuracy']\n",
    "\n",
    "loss = history.history['loss']\n",
    "val_loss = history.history['val_loss']\n",
    "\n",
    "epochs_range = range(epochs)\n",
    "\n",
    "plt.figure(figsize=(8, 8))\n",
    "plt.subplot(1, 2, 1)\n",
    "plt.plot(epochs_range, acc, label='Training Accuracy')\n",
    "plt.plot(epochs_range, val_acc, label='Validation Accuracy')\n",
    "plt.legend(loc='lower right')\n",
    "plt.title('Training and Validation Accuracy')\n",
    "\n",
    "plt.subplot(1, 2, 2)\n",
    "plt.plot(epochs_range, loss, label='Training Loss')\n",
    "plt.plot(epochs_range, val_loss, label='Validation Loss')\n",
    "plt.legend(loc='upper right')\n",
    "plt.title('Training and Validation Loss')\n",
    "plt.show()"
   ]
  }
 ],
 "metadata": {
  "kernelspec": {
   "display_name": "Python 3 (ipykernel)",
   "language": "python",
   "name": "python3"
  },
  "language_info": {
   "codemirror_mode": {
    "name": "ipython",
    "version": 3
   },
   "file_extension": ".py",
   "mimetype": "text/x-python",
   "name": "python",
   "nbconvert_exporter": "python",
   "pygments_lexer": "ipython3",
   "version": "3.9.0"
  }
 },
 "nbformat": 4,
 "nbformat_minor": 5
}
